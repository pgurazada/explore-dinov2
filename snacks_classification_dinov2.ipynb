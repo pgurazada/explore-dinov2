{
  "cells": [
    {
      "cell_type": "markdown",
      "metadata": {
        "id": "view-in-github",
        "colab_type": "text"
      },
      "source": [
        "<a href=\"https://colab.research.google.com/github/pgurazada/explore-dinov2/blob/main/snacks_classification_dinov2.ipynb\" target=\"_parent\"><img src=\"https://colab.research.google.com/assets/colab-badge.svg\" alt=\"Open In Colab\"/></a>"
      ]
    },
    {
      "cell_type": "markdown",
      "metadata": {
        "id": "vm4vfl2epvAq"
      },
      "source": [
        "# Introduction\n",
        "\n",
        "In this exercise, we train a classification model that uses the feature extraction capabilities of [Dino V2](https://arxiv.org/pdf/2304.07193.pdf)."
      ]
    },
    {
      "cell_type": "markdown",
      "source": [
        "# Imports"
      ],
      "metadata": {
        "id": "e6FmzTT9h6wD"
      }
    },
    {
      "cell_type": "code",
      "source": [
        "!pip install -q datasets flaml"
      ],
      "metadata": {
        "colab": {
          "base_uri": "https://localhost:8080/"
        },
        "id": "4dNnhT7LnjWw",
        "outputId": "aa8440d6-6bd4-4f38-e307-c2a6261e1ec2"
      },
      "execution_count": 1,
      "outputs": [
        {
          "output_type": "stream",
          "name": "stdout",
          "text": [
            "\u001b[2K     \u001b[90m━━━━━━━━━━━━━━━━━━━━━━━━━━━━━━━━━━━━━━━━\u001b[0m \u001b[32m521.2/521.2 kB\u001b[0m \u001b[31m3.2 MB/s\u001b[0m eta \u001b[36m0:00:00\u001b[0m\n",
            "\u001b[2K     \u001b[90m━━━━━━━━━━━━━━━━━━━━━━━━━━━━━━━━━━━━━━━━\u001b[0m \u001b[32m295.2/295.2 kB\u001b[0m \u001b[31m20.4 MB/s\u001b[0m eta \u001b[36m0:00:00\u001b[0m\n",
            "\u001b[2K     \u001b[90m━━━━━━━━━━━━━━━━━━━━━━━━━━━━━━━━━━━━━━━━\u001b[0m \u001b[32m115.3/115.3 kB\u001b[0m \u001b[31m11.8 MB/s\u001b[0m eta \u001b[36m0:00:00\u001b[0m\n",
            "\u001b[2K     \u001b[90m━━━━━━━━━━━━━━━━━━━━━━━━━━━━━━━━━━━━━━━━\u001b[0m \u001b[32m134.8/134.8 kB\u001b[0m \u001b[31m15.2 MB/s\u001b[0m eta \u001b[36m0:00:00\u001b[0m\n",
            "\u001b[?25h"
          ]
        }
      ]
    },
    {
      "cell_type": "code",
      "source": [
        "import os\n",
        "import torch\n",
        "\n",
        "import numpy as np\n",
        "import torchvision.transforms as T\n",
        "\n",
        "from PIL import Image\n",
        "from tqdm import tqdm\n",
        "from datasets import load_dataset\n",
        "from flaml import AutoML"
      ],
      "metadata": {
        "id": "Uc7IK5WbFdjC"
      },
      "execution_count": 2,
      "outputs": []
    },
    {
      "cell_type": "code",
      "source": [
        "!pip show torch torchvision"
      ],
      "metadata": {
        "colab": {
          "base_uri": "https://localhost:8080/"
        },
        "id": "Ly_iYgVRlenQ",
        "outputId": "0528b18a-5c3e-47bf-9e25-0d022092478b"
      },
      "execution_count": 3,
      "outputs": [
        {
          "output_type": "stream",
          "name": "stdout",
          "text": [
            "Name: torch\n",
            "Version: 2.1.0+cu118\n",
            "Summary: Tensors and Dynamic neural networks in Python with strong GPU acceleration\n",
            "Home-page: https://pytorch.org/\n",
            "Author: PyTorch Team\n",
            "Author-email: packages@pytorch.org\n",
            "License: BSD-3\n",
            "Location: /usr/local/lib/python3.10/dist-packages\n",
            "Requires: filelock, fsspec, jinja2, networkx, sympy, triton, typing-extensions\n",
            "Required-by: fastai, torchaudio, torchdata, torchtext, torchvision\n",
            "---\n",
            "Name: torchvision\n",
            "Version: 0.16.0+cu118\n",
            "Summary: image and video datasets and models for torch deep learning\n",
            "Home-page: https://github.com/pytorch/vision\n",
            "Author: PyTorch Core Team\n",
            "Author-email: soumith@pytorch.org\n",
            "License: BSD\n",
            "Location: /usr/local/lib/python3.10/dist-packages\n",
            "Requires: numpy, pillow, requests, torch\n",
            "Required-by: fastai\n"
          ]
        }
      ]
    },
    {
      "cell_type": "markdown",
      "source": [
        "# Data"
      ],
      "metadata": {
        "id": "ZPwXgcc3fGMy"
      }
    },
    {
      "cell_type": "code",
      "source": [
        "snacks_ds = load_dataset(\"Matthijs/snacks\")"
      ],
      "metadata": {
        "colab": {
          "base_uri": "https://localhost:8080/",
          "height": 209,
          "referenced_widgets": [
            "cd10b95132a8489ca2d6a4809dae51bf",
            "1278fcfd6b2f4b5a8c48f41bc0b859e8",
            "2df44da7e8ec49e9be9aa16d7a59843c",
            "31c0d139895d4cf19fabcf6edc5f9c3a",
            "0f5793f098f64735807a0d32836d6057",
            "4219346d5dd7410fa5892f74b650f391",
            "119b449606874425be477058dcde34b4",
            "8d4a2b00c2794d24a8db772c4e40b095",
            "038f8969c04f46b980e504847bf51a35",
            "a4f54ec14a654d9ea2438ff9aa7aa41d",
            "a5ea9feb9c4c4913a4ec9b778dd3dd43",
            "f8123d84149540d0a03c3e411502bdbc",
            "987e4b09c4684a9e974118922b7961f1",
            "19cc1ad2172a411f9325337446caa841",
            "134a4e9ff97647d6a987cb91a73fdd4b",
            "be128fb30d004dfa97afc7e1b68bf275",
            "38dbc80ede4e459eb7088333957824e2",
            "9d945f170dae427194f7aa79dfc9c3d6",
            "435f0b6d478943d088dea24398201f00",
            "919c971c488e4ea8a319fef7f7534af5",
            "4f752f16dfeb4771898dd9910c524bdc",
            "820686cb6155467e9071616c84feb5c5",
            "00c354e82ee649a2a714dac33206e0a2",
            "1c7c86db8218401483f06ce1f0139de6",
            "811e2773992540559436958cf77448ea",
            "0f7462a4af2541e9bb71783c66f22cd5",
            "91e7b170a71d4a028b711054f5c5a774",
            "96b3d45edf9945b08265709ce75e1fef",
            "21f073d1cabe416e857c943fe4975854",
            "bfbea0a5b02d497a8139e2d42052eb08",
            "d3f8b2f8c46f47949dc67d667481deac",
            "fc899ee4fba947bcb7eb2cd7ab02ae1a",
            "1c11b19a4a414142b84b0f0110f7522b",
            "c41a5645d4db4207bec0eb73932abc65",
            "c843716730534b459d6f4fcc8fc6b659",
            "e3e58cbd6b1148d39e32ee611159df20",
            "ca13b5f0b382430fbe1e8fd9027e31ea",
            "2b1e52de218e400180847f8b63d28d40",
            "a128735d5d03443dbc12eaa3d49ef565",
            "1e2c1e322c09483ab04a9dc0c6242f74",
            "4143ab23c64840d8a11f719e079718b6",
            "0f775ecf4fd641a5956f769f03f4a685",
            "e7f94ffe1dd34646b1ff2fa165920d19",
            "44cd50812b0446ce8f8ae4accd3e5a17",
            "895376c2d14d4e5a9bb7a0bcdeaf1ec3",
            "11cb39dca9874c5ea9cadd17a937cfb7",
            "b87767a6c1774eae82e71c29d527ed37",
            "20c3092cf5ba4cfa91a2620fc665f6e3",
            "564af0bf0ab141a1a6442508e4ff7b42",
            "54150761f6394ed6b0a868917f45b576",
            "97ba1b8734f94f8a8e6beb6a68b59598",
            "d15ad81ab21b4586972aee77f3dd7be9",
            "748b47e7275745abb6bae846166d1dc3",
            "410affe39fdf47849957f7c744cafba9",
            "da55580e6f2a4277bca805858c5346b5",
            "86b79097d2b44b55826f55b7240bdeab",
            "1573ac88e70449e684f3959ad5aa893c",
            "8ce1fbbed83649ad81da7583eb7b9728",
            "1cfdcb2f27114996a56c051385926d9a",
            "791aa67935df4cba8ba5fe7f94454f12",
            "ed80c1c9bf21495088301bce5a2d22cf",
            "da40da49c14f42b1a62ee3482aa99444",
            "bbd5a26f8f5f488ea78f8a5d7ba32fba",
            "7d51eedbbcd24462bb22d01b578a2e01",
            "c134fe4c6e5d460f8e0cc358d429bee2",
            "a22f1e5cc2d54d6483a1736bcc63a1dc"
          ]
        },
        "id": "fjmNJV5tuGjF",
        "outputId": "1a49f22d-ad36-4501-efcf-4cb201d14a93"
      },
      "execution_count": 4,
      "outputs": [
        {
          "output_type": "display_data",
          "data": {
            "text/plain": [
              "Downloading builder script:   0%|          | 0.00/3.50k [00:00<?, ?B/s]"
            ],
            "application/vnd.jupyter.widget-view+json": {
              "version_major": 2,
              "version_minor": 0,
              "model_id": "cd10b95132a8489ca2d6a4809dae51bf"
            }
          },
          "metadata": {}
        },
        {
          "output_type": "display_data",
          "data": {
            "text/plain": [
              "Downloading readme:   0%|          | 0.00/1.69k [00:00<?, ?B/s]"
            ],
            "application/vnd.jupyter.widget-view+json": {
              "version_major": 2,
              "version_minor": 0,
              "model_id": "f8123d84149540d0a03c3e411502bdbc"
            }
          },
          "metadata": {}
        },
        {
          "output_type": "display_data",
          "data": {
            "text/plain": [
              "Downloading data:   0%|          | 0.00/110M [00:00<?, ?B/s]"
            ],
            "application/vnd.jupyter.widget-view+json": {
              "version_major": 2,
              "version_minor": 0,
              "model_id": "00c354e82ee649a2a714dac33206e0a2"
            }
          },
          "metadata": {}
        },
        {
          "output_type": "display_data",
          "data": {
            "text/plain": [
              "Generating train split: 0 examples [00:00, ? examples/s]"
            ],
            "application/vnd.jupyter.widget-view+json": {
              "version_major": 2,
              "version_minor": 0,
              "model_id": "c41a5645d4db4207bec0eb73932abc65"
            }
          },
          "metadata": {}
        },
        {
          "output_type": "display_data",
          "data": {
            "text/plain": [
              "Generating test split: 0 examples [00:00, ? examples/s]"
            ],
            "application/vnd.jupyter.widget-view+json": {
              "version_major": 2,
              "version_minor": 0,
              "model_id": "895376c2d14d4e5a9bb7a0bcdeaf1ec3"
            }
          },
          "metadata": {}
        },
        {
          "output_type": "display_data",
          "data": {
            "text/plain": [
              "Generating validation split: 0 examples [00:00, ? examples/s]"
            ],
            "application/vnd.jupyter.widget-view+json": {
              "version_major": 2,
              "version_minor": 0,
              "model_id": "86b79097d2b44b55826f55b7240bdeab"
            }
          },
          "metadata": {}
        }
      ]
    },
    {
      "cell_type": "markdown",
      "source": [
        "# Model for Embeddings"
      ],
      "metadata": {
        "id": "IpXysTfAwrO-"
      }
    },
    {
      "cell_type": "code",
      "source": [
        "dinov2_vit14 = torch.hub.load(\"facebookresearch/dinov2\", \"dinov2_vitb14\")"
      ],
      "metadata": {
        "colab": {
          "base_uri": "https://localhost:8080/"
        },
        "id": "xkoC-GUNGXGs",
        "outputId": "4cbeca25-726c-49ae-cd9d-a89be44bd0a3"
      },
      "execution_count": 5,
      "outputs": [
        {
          "output_type": "stream",
          "name": "stderr",
          "text": [
            "Downloading: \"https://github.com/facebookresearch/dinov2/zipball/main\" to /root/.cache/torch/hub/main.zip\n",
            "/root/.cache/torch/hub/facebookresearch_dinov2_main/dinov2/layers/swiglu_ffn.py:51: UserWarning: xFormers is not available (SwiGLU)\n",
            "  warnings.warn(\"xFormers is not available (SwiGLU)\")\n",
            "/root/.cache/torch/hub/facebookresearch_dinov2_main/dinov2/layers/attention.py:33: UserWarning: xFormers is not available (Attention)\n",
            "  warnings.warn(\"xFormers is not available (Attention)\")\n",
            "/root/.cache/torch/hub/facebookresearch_dinov2_main/dinov2/layers/block.py:40: UserWarning: xFormers is not available (Block)\n",
            "  warnings.warn(\"xFormers is not available (Block)\")\n",
            "Downloading: \"https://dl.fbaipublicfiles.com/dinov2/dinov2_vitb14/dinov2_vitb14_pretrain.pth\" to /root/.cache/torch/hub/checkpoints/dinov2_vitb14_pretrain.pth\n",
            "100%|██████████| 330M/330M [00:01<00:00, 238MB/s]\n"
          ]
        }
      ]
    },
    {
      "cell_type": "code",
      "source": [
        "device = torch.device('cuda' if torch.cuda.is_available() else \"cpu\")\n",
        "dinov2_vit14.to(device)"
      ],
      "metadata": {
        "colab": {
          "base_uri": "https://localhost:8080/"
        },
        "id": "Q9dtQs90GY4M",
        "outputId": "6961bffd-5d0a-43fc-859d-ca0108262827"
      },
      "execution_count": 6,
      "outputs": [
        {
          "output_type": "execute_result",
          "data": {
            "text/plain": [
              "DinoVisionTransformer(\n",
              "  (patch_embed): PatchEmbed(\n",
              "    (proj): Conv2d(3, 768, kernel_size=(14, 14), stride=(14, 14))\n",
              "    (norm): Identity()\n",
              "  )\n",
              "  (blocks): ModuleList(\n",
              "    (0-11): 12 x NestedTensorBlock(\n",
              "      (norm1): LayerNorm((768,), eps=1e-06, elementwise_affine=True)\n",
              "      (attn): MemEffAttention(\n",
              "        (qkv): Linear(in_features=768, out_features=2304, bias=True)\n",
              "        (attn_drop): Dropout(p=0.0, inplace=False)\n",
              "        (proj): Linear(in_features=768, out_features=768, bias=True)\n",
              "        (proj_drop): Dropout(p=0.0, inplace=False)\n",
              "      )\n",
              "      (ls1): LayerScale()\n",
              "      (drop_path1): Identity()\n",
              "      (norm2): LayerNorm((768,), eps=1e-06, elementwise_affine=True)\n",
              "      (mlp): Mlp(\n",
              "        (fc1): Linear(in_features=768, out_features=3072, bias=True)\n",
              "        (act): GELU(approximate='none')\n",
              "        (fc2): Linear(in_features=3072, out_features=768, bias=True)\n",
              "        (drop): Dropout(p=0.0, inplace=False)\n",
              "      )\n",
              "      (ls2): LayerScale()\n",
              "      (drop_path2): Identity()\n",
              "    )\n",
              "  )\n",
              "  (norm): LayerNorm((768,), eps=1e-06, elementwise_affine=True)\n",
              "  (head): Identity()\n",
              ")"
            ]
          },
          "metadata": {},
          "execution_count": 6
        }
      ]
    },
    {
      "cell_type": "code",
      "source": [
        "transform_image = T.Compose(\n",
        "    [\n",
        "        T.ToTensor(),\n",
        "        T.Resize(244, antialias=True),\n",
        "        T.CenterCrop(224),\n",
        "        T.Normalize([0.5], [0.5])\n",
        "    ]\n",
        ")"
      ],
      "metadata": {
        "id": "3FWtVB1sGaHj"
      },
      "execution_count": 7,
      "outputs": []
    },
    {
      "cell_type": "code",
      "source": [
        "def load_image(img: str) -> torch.Tensor:\n",
        "    \"\"\"\n",
        "    Load an image and return a tensor that can be used as an input to DINOv2.\n",
        "    \"\"\"\n",
        "\n",
        "    transformed_img = transform_image(img)[:3].unsqueeze(0)\n",
        "\n",
        "    return transformed_img"
      ],
      "metadata": {
        "id": "c7rfg-3fGpkn"
      },
      "execution_count": 8,
      "outputs": []
    },
    {
      "cell_type": "code",
      "source": [
        "def compute_embeddings(files) -> dict:\n",
        "    \"\"\"\n",
        "    Create an index that contains all of the images in the specified list of files.\n",
        "    \"\"\"\n",
        "    all_embeddings = {}\n",
        "    bad_image_indices = []\n",
        "\n",
        "    with torch.no_grad():\n",
        "      for i, file in enumerate(tqdm(files)):\n",
        "        try:\n",
        "            embeddings = dinov2_vit14(load_image(file['image']).to(device))\n",
        "            all_embeddings[i] = np.array(embeddings[0].cpu().numpy()).reshape(1, -1).tolist()\n",
        "        except Exception as e:\n",
        "            bad_image_indices.append(i)\n",
        "            continue\n",
        "\n",
        "    return all_embeddings, bad_image_indices"
      ],
      "metadata": {
        "id": "5S6517yHGsEM"
      },
      "execution_count": 9,
      "outputs": []
    },
    {
      "cell_type": "code",
      "source": [
        "train_embeddings, bad_train_image_indices = compute_embeddings(snacks_ds['train'])"
      ],
      "metadata": {
        "colab": {
          "base_uri": "https://localhost:8080/"
        },
        "id": "1TRA9rKAGuoR",
        "outputId": "b0307e79-01b5-49dc-9f19-baf0f91b3878"
      },
      "execution_count": 10,
      "outputs": [
        {
          "output_type": "stream",
          "name": "stderr",
          "text": [
            "100%|██████████| 4838/4838 [01:57<00:00, 41.25it/s]\n"
          ]
        }
      ]
    },
    {
      "cell_type": "code",
      "source": [
        "len(train_embeddings)"
      ],
      "metadata": {
        "colab": {
          "base_uri": "https://localhost:8080/"
        },
        "id": "0h_r8BUpjpQ-",
        "outputId": "cf8891a7-225a-483c-99bb-56eb61837001"
      },
      "execution_count": 11,
      "outputs": [
        {
          "output_type": "execute_result",
          "data": {
            "text/plain": [
              "4838"
            ]
          },
          "metadata": {},
          "execution_count": 11
        }
      ]
    },
    {
      "cell_type": "code",
      "source": [
        "len(bad_train_image_indices)"
      ],
      "metadata": {
        "colab": {
          "base_uri": "https://localhost:8080/"
        },
        "id": "ibqh-GXKtXJ0",
        "outputId": "3f9d0917-0e83-4a54-e077-decb42c69771"
      },
      "execution_count": 12,
      "outputs": [
        {
          "output_type": "execute_result",
          "data": {
            "text/plain": [
              "0"
            ]
          },
          "metadata": {},
          "execution_count": 12
        }
      ]
    },
    {
      "cell_type": "code",
      "source": [
        "test_embeddings, bad_test_image_indices = compute_embeddings(snacks_ds['test'])"
      ],
      "metadata": {
        "colab": {
          "base_uri": "https://localhost:8080/"
        },
        "id": "OqC8AG9Xg7px",
        "outputId": "65d8dca4-1e04-4ba0-a59d-8f44909fddba"
      },
      "execution_count": 14,
      "outputs": [
        {
          "output_type": "stream",
          "name": "stderr",
          "text": [
            "100%|██████████| 952/952 [00:24<00:00, 39.34it/s]\n"
          ]
        }
      ]
    },
    {
      "cell_type": "code",
      "source": [
        "len(test_embeddings)"
      ],
      "metadata": {
        "colab": {
          "base_uri": "https://localhost:8080/"
        },
        "id": "wDTMBFtSjxjF",
        "outputId": "803e8e06-effb-4602-cb4d-aaea6ea759db"
      },
      "execution_count": 15,
      "outputs": [
        {
          "output_type": "execute_result",
          "data": {
            "text/plain": [
              "952"
            ]
          },
          "metadata": {},
          "execution_count": 15
        }
      ]
    },
    {
      "cell_type": "code",
      "source": [
        "len(bad_test_image_indices)"
      ],
      "metadata": {
        "colab": {
          "base_uri": "https://localhost:8080/"
        },
        "id": "y2zqAFmXtjMd",
        "outputId": "a9ae1fdd-6d48-485f-9e8f-81f72aa1dd21"
      },
      "execution_count": 16,
      "outputs": [
        {
          "output_type": "execute_result",
          "data": {
            "text/plain": [
              "0"
            ]
          },
          "metadata": {},
          "execution_count": 16
        }
      ]
    },
    {
      "cell_type": "code",
      "source": [
        "ytrain = np.array([file['label'] for file in snacks_ds['train']])\n",
        "train_embedding_list = list(train_embeddings.values())\n",
        "Xtrain = np.array(train_embedding_list).reshape(-1, dinov2_vit14.embed_dim)"
      ],
      "metadata": {
        "id": "UtG5gc0BHTAr"
      },
      "execution_count": 19,
      "outputs": []
    },
    {
      "cell_type": "code",
      "source": [
        "ytest = np.array([file['label'] for file in snacks_ds['test']])\n",
        "test_embedding_list = list(test_embeddings.values())\n",
        "Xtest = np.array(test_embedding_list).reshape(-1, dinov2_vit14.embed_dim)"
      ],
      "metadata": {
        "id": "P1WTmQDtlG4v"
      },
      "execution_count": 20,
      "outputs": []
    },
    {
      "cell_type": "markdown",
      "source": [
        "# Model for Classification"
      ],
      "metadata": {
        "id": "wdmbrgET6O_X"
      }
    },
    {
      "cell_type": "code",
      "source": [
        "automl = AutoML()"
      ],
      "metadata": {
        "id": "2Do57wblzmyR"
      },
      "execution_count": 21,
      "outputs": []
    },
    {
      "cell_type": "code",
      "source": [
        "automl.fit(\n",
        "    X_train=Xtrain, y_train=ytrain,\n",
        "    time_budget=240,\n",
        "    log_file_name='snacks.log',\n",
        "    task='classification',\n",
        "    metric='accuracy',\n",
        "    split_ratio=.3\n",
        ")"
      ],
      "metadata": {
        "colab": {
          "base_uri": "https://localhost:8080/"
        },
        "id": "JObd4YNezrWf",
        "outputId": "4299fb8b-89b9-40a0-a51b-f479bb7287eb"
      },
      "execution_count": 22,
      "outputs": [
        {
          "output_type": "stream",
          "name": "stdout",
          "text": [
            "[flaml.automl.logger: 12-13 16:00:14] {1679} INFO - task = classification\n",
            "[flaml.automl.logger: 12-13 16:00:14] {1690} INFO - Evaluation method: holdout\n",
            "[flaml.automl.logger: 12-13 16:00:14] {1788} INFO - Minimizing error metric: 1-accuracy\n",
            "[flaml.automl.logger: 12-13 16:00:14] {1900} INFO - List of ML learners in AutoML Run: ['lgbm', 'rf', 'xgboost', 'extra_tree', 'xgb_limitdepth', 'lrl1']\n",
            "[flaml.automl.logger: 12-13 16:00:14] {2218} INFO - iteration 0, current learner lgbm\n",
            "[flaml.automl.logger: 12-13 16:00:21] {2344} INFO - Estimated sufficient time budget=67026s. Estimated necessary time budget=1545s.\n",
            "[flaml.automl.logger: 12-13 16:00:21] {2391} INFO -  at 6.9s,\testimator lgbm's best error=0.2217,\tbest estimator lgbm's best error=0.2217\n",
            "[flaml.automl.logger: 12-13 16:00:21] {2218} INFO - iteration 1, current learner lgbm\n",
            "[flaml.automl.logger: 12-13 16:00:24] {2391} INFO -  at 10.0s,\testimator lgbm's best error=0.2217,\tbest estimator lgbm's best error=0.2217\n",
            "[flaml.automl.logger: 12-13 16:00:24] {2218} INFO - iteration 2, current learner lgbm\n",
            "[flaml.automl.logger: 12-13 16:00:25] {2391} INFO -  at 11.5s,\testimator lgbm's best error=0.2074,\tbest estimator lgbm's best error=0.2074\n",
            "[flaml.automl.logger: 12-13 16:00:25] {2218} INFO - iteration 3, current learner lgbm\n",
            "[flaml.automl.logger: 12-13 16:00:33] {2391} INFO -  at 19.0s,\testimator lgbm's best error=0.1780,\tbest estimator lgbm's best error=0.1780\n",
            "[flaml.automl.logger: 12-13 16:00:33] {2218} INFO - iteration 4, current learner lgbm\n",
            "[flaml.automl.logger: 12-13 16:00:34] {2391} INFO -  at 20.4s,\testimator lgbm's best error=0.1780,\tbest estimator lgbm's best error=0.1780\n",
            "[flaml.automl.logger: 12-13 16:00:34] {2218} INFO - iteration 5, current learner lgbm\n",
            "[flaml.automl.logger: 12-13 16:00:38] {2391} INFO -  at 23.7s,\testimator lgbm's best error=0.1780,\tbest estimator lgbm's best error=0.1780\n",
            "[flaml.automl.logger: 12-13 16:00:38] {2218} INFO - iteration 6, current learner lgbm\n",
            "[flaml.automl.logger: 12-13 16:00:48] {2391} INFO -  at 34.2s,\testimator lgbm's best error=0.1501,\tbest estimator lgbm's best error=0.1501\n",
            "[flaml.automl.logger: 12-13 16:00:48] {2218} INFO - iteration 7, current learner xgboost\n",
            "[flaml.automl.logger: 12-13 16:00:51] {2391} INFO -  at 36.9s,\testimator xgboost's best error=0.2367,\tbest estimator lgbm's best error=0.1501\n",
            "[flaml.automl.logger: 12-13 16:00:51] {2218} INFO - iteration 8, current learner xgboost\n",
            "[flaml.automl.logger: 12-13 16:00:55] {2391} INFO -  at 40.6s,\testimator xgboost's best error=0.2367,\tbest estimator lgbm's best error=0.1501\n",
            "[flaml.automl.logger: 12-13 16:00:55] {2218} INFO - iteration 9, current learner xgboost\n",
            "[flaml.automl.logger: 12-13 16:00:58] {2391} INFO -  at 44.4s,\testimator xgboost's best error=0.2142,\tbest estimator lgbm's best error=0.1501\n",
            "[flaml.automl.logger: 12-13 16:00:58] {2218} INFO - iteration 10, current learner extra_tree\n",
            "[flaml.automl.logger: 12-13 16:00:58] {2391} INFO -  at 44.5s,\testimator extra_tree's best error=0.6432,\tbest estimator lgbm's best error=0.1501\n",
            "[flaml.automl.logger: 12-13 16:00:58] {2218} INFO - iteration 11, current learner extra_tree\n",
            "[flaml.automl.logger: 12-13 16:00:58] {2391} INFO -  at 44.6s,\testimator extra_tree's best error=0.5286,\tbest estimator lgbm's best error=0.1501\n",
            "[flaml.automl.logger: 12-13 16:00:58] {2218} INFO - iteration 12, current learner extra_tree\n",
            "[flaml.automl.logger: 12-13 16:00:59] {2391} INFO -  at 44.6s,\testimator extra_tree's best error=0.5286,\tbest estimator lgbm's best error=0.1501\n",
            "[flaml.automl.logger: 12-13 16:00:59] {2218} INFO - iteration 13, current learner extra_tree\n",
            "[flaml.automl.logger: 12-13 16:00:59] {2391} INFO -  at 44.7s,\testimator extra_tree's best error=0.4284,\tbest estimator lgbm's best error=0.1501\n",
            "[flaml.automl.logger: 12-13 16:00:59] {2218} INFO - iteration 14, current learner extra_tree\n",
            "[flaml.automl.logger: 12-13 16:00:59] {2391} INFO -  at 44.8s,\testimator extra_tree's best error=0.4284,\tbest estimator lgbm's best error=0.1501\n",
            "[flaml.automl.logger: 12-13 16:00:59] {2218} INFO - iteration 15, current learner extra_tree\n",
            "[flaml.automl.logger: 12-13 16:00:59] {2391} INFO -  at 45.0s,\testimator extra_tree's best error=0.3813,\tbest estimator lgbm's best error=0.1501\n",
            "[flaml.automl.logger: 12-13 16:00:59] {2218} INFO - iteration 16, current learner extra_tree\n",
            "[flaml.automl.logger: 12-13 16:00:59] {2391} INFO -  at 45.1s,\testimator extra_tree's best error=0.3813,\tbest estimator lgbm's best error=0.1501\n",
            "[flaml.automl.logger: 12-13 16:00:59] {2218} INFO - iteration 17, current learner lgbm\n",
            "[flaml.automl.logger: 12-13 16:01:02] {2391} INFO -  at 47.9s,\testimator lgbm's best error=0.1501,\tbest estimator lgbm's best error=0.1501\n",
            "[flaml.automl.logger: 12-13 16:01:02] {2218} INFO - iteration 18, current learner extra_tree\n",
            "[flaml.automl.logger: 12-13 16:01:02] {2391} INFO -  at 48.2s,\testimator extra_tree's best error=0.2115,\tbest estimator lgbm's best error=0.1501\n",
            "[flaml.automl.logger: 12-13 16:01:02] {2218} INFO - iteration 19, current learner extra_tree\n",
            "[flaml.automl.logger: 12-13 16:01:02] {2391} INFO -  at 48.3s,\testimator extra_tree's best error=0.2115,\tbest estimator lgbm's best error=0.1501\n",
            "[flaml.automl.logger: 12-13 16:01:02] {2218} INFO - iteration 20, current learner extra_tree\n",
            "[flaml.automl.logger: 12-13 16:01:02] {2391} INFO -  at 48.6s,\testimator extra_tree's best error=0.2115,\tbest estimator lgbm's best error=0.1501\n",
            "[flaml.automl.logger: 12-13 16:01:02] {2218} INFO - iteration 21, current learner extra_tree\n",
            "[flaml.automl.logger: 12-13 16:01:03] {2391} INFO -  at 48.8s,\testimator extra_tree's best error=0.1289,\tbest estimator extra_tree's best error=0.1289\n",
            "[flaml.automl.logger: 12-13 16:01:03] {2218} INFO - iteration 22, current learner extra_tree\n",
            "[flaml.automl.logger: 12-13 16:01:03] {2391} INFO -  at 49.0s,\testimator extra_tree's best error=0.1289,\tbest estimator extra_tree's best error=0.1289\n",
            "[flaml.automl.logger: 12-13 16:01:03] {2218} INFO - iteration 23, current learner extra_tree\n",
            "[flaml.automl.logger: 12-13 16:01:03] {2391} INFO -  at 49.5s,\testimator extra_tree's best error=0.1010,\tbest estimator extra_tree's best error=0.1010\n",
            "[flaml.automl.logger: 12-13 16:01:03] {2218} INFO - iteration 24, current learner extra_tree\n",
            "[flaml.automl.logger: 12-13 16:01:04] {2391} INFO -  at 49.8s,\testimator extra_tree's best error=0.1010,\tbest estimator extra_tree's best error=0.1010\n",
            "[flaml.automl.logger: 12-13 16:01:04] {2218} INFO - iteration 25, current learner extra_tree\n",
            "[flaml.automl.logger: 12-13 16:01:05] {2391} INFO -  at 50.8s,\testimator extra_tree's best error=0.0935,\tbest estimator extra_tree's best error=0.0935\n",
            "[flaml.automl.logger: 12-13 16:01:05] {2218} INFO - iteration 26, current learner extra_tree\n",
            "[flaml.automl.logger: 12-13 16:01:06] {2391} INFO -  at 51.9s,\testimator extra_tree's best error=0.0819,\tbest estimator extra_tree's best error=0.0819\n",
            "[flaml.automl.logger: 12-13 16:01:06] {2218} INFO - iteration 27, current learner extra_tree\n",
            "[flaml.automl.logger: 12-13 16:01:07] {2391} INFO -  at 53.1s,\testimator extra_tree's best error=0.0819,\tbest estimator extra_tree's best error=0.0819\n",
            "[flaml.automl.logger: 12-13 16:01:07] {2218} INFO - iteration 28, current learner extra_tree\n",
            "[flaml.automl.logger: 12-13 16:01:08] {2391} INFO -  at 53.9s,\testimator extra_tree's best error=0.0819,\tbest estimator extra_tree's best error=0.0819\n",
            "[flaml.automl.logger: 12-13 16:01:08] {2218} INFO - iteration 29, current learner extra_tree\n",
            "[flaml.automl.logger: 12-13 16:01:12] {2391} INFO -  at 57.9s,\testimator extra_tree's best error=0.0819,\tbest estimator extra_tree's best error=0.0819\n",
            "[flaml.automl.logger: 12-13 16:01:12] {2218} INFO - iteration 30, current learner lgbm\n",
            "[flaml.automl.logger: 12-13 16:01:38] {2391} INFO -  at 83.6s,\testimator lgbm's best error=0.1010,\tbest estimator extra_tree's best error=0.0819\n",
            "[flaml.automl.logger: 12-13 16:01:38] {2218} INFO - iteration 31, current learner xgboost\n",
            "[flaml.automl.logger: 12-13 16:01:40] {2391} INFO -  at 86.5s,\testimator xgboost's best error=0.2142,\tbest estimator extra_tree's best error=0.0819\n",
            "[flaml.automl.logger: 12-13 16:01:40] {2218} INFO - iteration 32, current learner extra_tree\n",
            "[flaml.automl.logger: 12-13 16:01:42] {2391} INFO -  at 88.4s,\testimator extra_tree's best error=0.0819,\tbest estimator extra_tree's best error=0.0819\n",
            "[flaml.automl.logger: 12-13 16:01:42] {2218} INFO - iteration 33, current learner lgbm\n",
            "[flaml.automl.logger: 12-13 16:01:53] {2391} INFO -  at 99.1s,\testimator lgbm's best error=0.1010,\tbest estimator extra_tree's best error=0.0819\n",
            "[flaml.automl.logger: 12-13 16:01:53] {2218} INFO - iteration 34, current learner extra_tree\n",
            "[flaml.automl.logger: 12-13 16:01:54] {2391} INFO -  at 100.1s,\testimator extra_tree's best error=0.0819,\tbest estimator extra_tree's best error=0.0819\n",
            "[flaml.automl.logger: 12-13 16:01:54] {2218} INFO - iteration 35, current learner extra_tree\n",
            "[flaml.automl.logger: 12-13 16:01:56] {2391} INFO -  at 101.7s,\testimator extra_tree's best error=0.0819,\tbest estimator extra_tree's best error=0.0819\n",
            "[flaml.automl.logger: 12-13 16:01:56] {2218} INFO - iteration 36, current learner extra_tree\n",
            "[flaml.automl.logger: 12-13 16:01:57] {2391} INFO -  at 102.9s,\testimator extra_tree's best error=0.0819,\tbest estimator extra_tree's best error=0.0819\n",
            "[flaml.automl.logger: 12-13 16:01:57] {2218} INFO - iteration 37, current learner extra_tree\n",
            "[flaml.automl.logger: 12-13 16:01:59] {2391} INFO -  at 105.1s,\testimator extra_tree's best error=0.0757,\tbest estimator extra_tree's best error=0.0757\n",
            "[flaml.automl.logger: 12-13 16:01:59] {2218} INFO - iteration 38, current learner rf\n",
            "[flaml.automl.logger: 12-13 16:01:59] {2391} INFO -  at 105.5s,\testimator rf's best error=0.5505,\tbest estimator extra_tree's best error=0.0757\n",
            "[flaml.automl.logger: 12-13 16:01:59] {2218} INFO - iteration 39, current learner rf\n",
            "[flaml.automl.logger: 12-13 16:02:00] {2391} INFO -  at 105.7s,\testimator rf's best error=0.4598,\tbest estimator extra_tree's best error=0.0757\n",
            "[flaml.automl.logger: 12-13 16:02:00] {2218} INFO - iteration 40, current learner rf\n",
            "[flaml.automl.logger: 12-13 16:02:00] {2391} INFO -  at 105.9s,\testimator rf's best error=0.4598,\tbest estimator extra_tree's best error=0.0757\n",
            "[flaml.automl.logger: 12-13 16:02:00] {2218} INFO - iteration 41, current learner extra_tree\n",
            "[flaml.automl.logger: 12-13 16:02:02] {2391} INFO -  at 107.7s,\testimator extra_tree's best error=0.0757,\tbest estimator extra_tree's best error=0.0757\n",
            "[flaml.automl.logger: 12-13 16:02:02] {2218} INFO - iteration 42, current learner lgbm\n",
            "[flaml.automl.logger: 12-13 16:04:10] {2391} INFO -  at 236.2s,\testimator lgbm's best error=0.0737,\tbest estimator lgbm's best error=0.0737\n",
            "[flaml.automl.logger: 12-13 16:04:10] {2218} INFO - iteration 43, current learner rf\n",
            "[flaml.automl.logger: 12-13 16:04:12] {2391} INFO -  at 237.6s,\testimator rf's best error=0.3697,\tbest estimator lgbm's best error=0.0737\n",
            "[flaml.automl.logger: 12-13 16:04:12] {2218} INFO - iteration 44, current learner extra_tree\n",
            "[flaml.automl.logger: 12-13 16:04:14] {2391} INFO -  at 239.6s,\testimator extra_tree's best error=0.0757,\tbest estimator lgbm's best error=0.0737\n",
            "[flaml.automl.logger: 12-13 16:04:14] {2218} INFO - iteration 45, current learner xgb_limitdepth\n",
            "[flaml.automl.logger: 12-13 16:04:16] {2391} INFO -  at 242.1s,\testimator xgb_limitdepth's best error=0.2626,\tbest estimator lgbm's best error=0.0737\n",
            "[flaml.automl.logger: 12-13 16:07:04] {2627} INFO - retrain lgbm for 168.2s\n",
            "[flaml.automl.logger: 12-13 16:07:04] {2630} INFO - retrained model: LGBMClassifier(colsample_bytree=0.8345075630938922,\n",
            "               learning_rate=0.15922418945050276, max_bin=1023,\n",
            "               min_child_samples=9, n_estimators=1, n_jobs=-1, num_leaves=13,\n",
            "               reg_alpha=0.0009765625, reg_lambda=1.6702305601383631,\n",
            "               verbose=-1)\n",
            "[flaml.automl.logger: 12-13 16:07:04] {1930} INFO - fit succeeded\n",
            "[flaml.automl.logger: 12-13 16:07:04] {1931} INFO - Time taken to find the best model: 236.24159622192383\n"
          ]
        }
      ]
    },
    {
      "cell_type": "code",
      "source": [
        "print('Best ML leaner:', automl.best_estimator)\n",
        "print('Best hyperparmeter config:', automl.best_config)\n",
        "print(f'Best accuracy on validation data: {(1-automl.best_loss):.3f}')\n",
        "print(f'Training duration of best run: {(automl.best_config_train_time):.4f} s')"
      ],
      "metadata": {
        "colab": {
          "base_uri": "https://localhost:8080/"
        },
        "id": "h8jHtc5H34Uf",
        "outputId": "4f1da2ff-a43a-4fd8-adb8-f863838f1980"
      },
      "execution_count": 23,
      "outputs": [
        {
          "output_type": "stream",
          "name": "stdout",
          "text": [
            "Best ML leaner: lgbm\n",
            "Best hyperparmeter config: {'n_estimators': 57, 'num_leaves': 13, 'min_child_samples': 9, 'learning_rate': 0.15922418945050276, 'log_max_bin': 10, 'colsample_bytree': 0.8345075630938922, 'reg_alpha': 0.0009765625, 'reg_lambda': 1.6702305601383631}\n",
            "Best accuracy on validation data: 0.926\n",
            "Training duration of best run: 168.2140 s\n"
          ]
        }
      ]
    },
    {
      "cell_type": "code",
      "source": [
        "automl.model.estimator"
      ],
      "metadata": {
        "colab": {
          "base_uri": "https://localhost:8080/",
          "height": 144
        },
        "id": "0fOLEwFD3-1Y",
        "outputId": "f05c12e1-6bcd-4a7e-c160-73cc858db08e"
      },
      "execution_count": 24,
      "outputs": [
        {
          "output_type": "execute_result",
          "data": {
            "text/plain": [
              "LGBMClassifier(colsample_bytree=0.8345075630938922,\n",
              "               learning_rate=0.15922418945050276, max_bin=1023,\n",
              "               min_child_samples=9, n_estimators=1, n_jobs=-1, num_leaves=13,\n",
              "               reg_alpha=0.0009765625, reg_lambda=1.6702305601383631,\n",
              "               verbose=-1)"
            ],
            "text/html": [
              "<style>#sk-container-id-1 {color: black;background-color: white;}#sk-container-id-1 pre{padding: 0;}#sk-container-id-1 div.sk-toggleable {background-color: white;}#sk-container-id-1 label.sk-toggleable__label {cursor: pointer;display: block;width: 100%;margin-bottom: 0;padding: 0.3em;box-sizing: border-box;text-align: center;}#sk-container-id-1 label.sk-toggleable__label-arrow:before {content: \"▸\";float: left;margin-right: 0.25em;color: #696969;}#sk-container-id-1 label.sk-toggleable__label-arrow:hover:before {color: black;}#sk-container-id-1 div.sk-estimator:hover label.sk-toggleable__label-arrow:before {color: black;}#sk-container-id-1 div.sk-toggleable__content {max-height: 0;max-width: 0;overflow: hidden;text-align: left;background-color: #f0f8ff;}#sk-container-id-1 div.sk-toggleable__content pre {margin: 0.2em;color: black;border-radius: 0.25em;background-color: #f0f8ff;}#sk-container-id-1 input.sk-toggleable__control:checked~div.sk-toggleable__content {max-height: 200px;max-width: 100%;overflow: auto;}#sk-container-id-1 input.sk-toggleable__control:checked~label.sk-toggleable__label-arrow:before {content: \"▾\";}#sk-container-id-1 div.sk-estimator input.sk-toggleable__control:checked~label.sk-toggleable__label {background-color: #d4ebff;}#sk-container-id-1 div.sk-label input.sk-toggleable__control:checked~label.sk-toggleable__label {background-color: #d4ebff;}#sk-container-id-1 input.sk-hidden--visually {border: 0;clip: rect(1px 1px 1px 1px);clip: rect(1px, 1px, 1px, 1px);height: 1px;margin: -1px;overflow: hidden;padding: 0;position: absolute;width: 1px;}#sk-container-id-1 div.sk-estimator {font-family: monospace;background-color: #f0f8ff;border: 1px dotted black;border-radius: 0.25em;box-sizing: border-box;margin-bottom: 0.5em;}#sk-container-id-1 div.sk-estimator:hover {background-color: #d4ebff;}#sk-container-id-1 div.sk-parallel-item::after {content: \"\";width: 100%;border-bottom: 1px solid gray;flex-grow: 1;}#sk-container-id-1 div.sk-label:hover label.sk-toggleable__label {background-color: #d4ebff;}#sk-container-id-1 div.sk-serial::before {content: \"\";position: absolute;border-left: 1px solid gray;box-sizing: border-box;top: 0;bottom: 0;left: 50%;z-index: 0;}#sk-container-id-1 div.sk-serial {display: flex;flex-direction: column;align-items: center;background-color: white;padding-right: 0.2em;padding-left: 0.2em;position: relative;}#sk-container-id-1 div.sk-item {position: relative;z-index: 1;}#sk-container-id-1 div.sk-parallel {display: flex;align-items: stretch;justify-content: center;background-color: white;position: relative;}#sk-container-id-1 div.sk-item::before, #sk-container-id-1 div.sk-parallel-item::before {content: \"\";position: absolute;border-left: 1px solid gray;box-sizing: border-box;top: 0;bottom: 0;left: 50%;z-index: -1;}#sk-container-id-1 div.sk-parallel-item {display: flex;flex-direction: column;z-index: 1;position: relative;background-color: white;}#sk-container-id-1 div.sk-parallel-item:first-child::after {align-self: flex-end;width: 50%;}#sk-container-id-1 div.sk-parallel-item:last-child::after {align-self: flex-start;width: 50%;}#sk-container-id-1 div.sk-parallel-item:only-child::after {width: 0;}#sk-container-id-1 div.sk-dashed-wrapped {border: 1px dashed gray;margin: 0 0.4em 0.5em 0.4em;box-sizing: border-box;padding-bottom: 0.4em;background-color: white;}#sk-container-id-1 div.sk-label label {font-family: monospace;font-weight: bold;display: inline-block;line-height: 1.2em;}#sk-container-id-1 div.sk-label-container {text-align: center;}#sk-container-id-1 div.sk-container {/* jupyter's `normalize.less` sets `[hidden] { display: none; }` but bootstrap.min.css set `[hidden] { display: none !important; }` so we also need the `!important` here to be able to override the default hidden behavior on the sphinx rendered scikit-learn.org. See: https://github.com/scikit-learn/scikit-learn/issues/21755 */display: inline-block !important;position: relative;}#sk-container-id-1 div.sk-text-repr-fallback {display: none;}</style><div id=\"sk-container-id-1\" class=\"sk-top-container\"><div class=\"sk-text-repr-fallback\"><pre>LGBMClassifier(colsample_bytree=0.8345075630938922,\n",
              "               learning_rate=0.15922418945050276, max_bin=1023,\n",
              "               min_child_samples=9, n_estimators=1, n_jobs=-1, num_leaves=13,\n",
              "               reg_alpha=0.0009765625, reg_lambda=1.6702305601383631,\n",
              "               verbose=-1)</pre><b>In a Jupyter environment, please rerun this cell to show the HTML representation or trust the notebook. <br />On GitHub, the HTML representation is unable to render, please try loading this page with nbviewer.org.</b></div><div class=\"sk-container\" hidden><div class=\"sk-item\"><div class=\"sk-estimator sk-toggleable\"><input class=\"sk-toggleable__control sk-hidden--visually\" id=\"sk-estimator-id-1\" type=\"checkbox\" checked><label for=\"sk-estimator-id-1\" class=\"sk-toggleable__label sk-toggleable__label-arrow\">LGBMClassifier</label><div class=\"sk-toggleable__content\"><pre>LGBMClassifier(colsample_bytree=0.8345075630938922,\n",
              "               learning_rate=0.15922418945050276, max_bin=1023,\n",
              "               min_child_samples=9, n_estimators=1, n_jobs=-1, num_leaves=13,\n",
              "               reg_alpha=0.0009765625, reg_lambda=1.6702305601383631,\n",
              "               verbose=-1)</pre></div></div></div></div></div>"
            ]
          },
          "metadata": {},
          "execution_count": 24
        }
      ]
    },
    {
      "cell_type": "code",
      "source": [
        "ypred = automl.predict(Xtest)"
      ],
      "metadata": {
        "id": "MiDbGln_hD8i"
      },
      "execution_count": 25,
      "outputs": []
    },
    {
      "cell_type": "code",
      "source": [
        "(ypred == ytest).mean()"
      ],
      "metadata": {
        "colab": {
          "base_uri": "https://localhost:8080/"
        },
        "id": "1-KEe28lhVsB",
        "outputId": "87fa5726-86cd-4be0-81d3-14036d75a930"
      },
      "execution_count": 26,
      "outputs": [
        {
          "output_type": "execute_result",
          "data": {
            "text/plain": [
              "0.9117647058823529"
            ]
          },
          "metadata": {},
          "execution_count": 26
        }
      ]
    }
  ],
  "metadata": {
    "colab": {
      "provenance": [],
      "gpuType": "T4",
      "include_colab_link": true
    },
    "kernelspec": {
      "display_name": "Python 3",
      "name": "python3"
    },
    "language_info": {
      "name": "python"
    },
    "orig_nbformat": 4,
    "accelerator": "GPU",
    "widgets": {
      "application/vnd.jupyter.widget-state+json": {
        "cd10b95132a8489ca2d6a4809dae51bf": {
          "model_module": "@jupyter-widgets/controls",
          "model_name": "HBoxModel",
          "model_module_version": "1.5.0",
          "state": {
            "_dom_classes": [],
            "_model_module": "@jupyter-widgets/controls",
            "_model_module_version": "1.5.0",
            "_model_name": "HBoxModel",
            "_view_count": null,
            "_view_module": "@jupyter-widgets/controls",
            "_view_module_version": "1.5.0",
            "_view_name": "HBoxView",
            "box_style": "",
            "children": [
              "IPY_MODEL_1278fcfd6b2f4b5a8c48f41bc0b859e8",
              "IPY_MODEL_2df44da7e8ec49e9be9aa16d7a59843c",
              "IPY_MODEL_31c0d139895d4cf19fabcf6edc5f9c3a"
            ],
            "layout": "IPY_MODEL_0f5793f098f64735807a0d32836d6057"
          }
        },
        "1278fcfd6b2f4b5a8c48f41bc0b859e8": {
          "model_module": "@jupyter-widgets/controls",
          "model_name": "HTMLModel",
          "model_module_version": "1.5.0",
          "state": {
            "_dom_classes": [],
            "_model_module": "@jupyter-widgets/controls",
            "_model_module_version": "1.5.0",
            "_model_name": "HTMLModel",
            "_view_count": null,
            "_view_module": "@jupyter-widgets/controls",
            "_view_module_version": "1.5.0",
            "_view_name": "HTMLView",
            "description": "",
            "description_tooltip": null,
            "layout": "IPY_MODEL_4219346d5dd7410fa5892f74b650f391",
            "placeholder": "​",
            "style": "IPY_MODEL_119b449606874425be477058dcde34b4",
            "value": "Downloading builder script: 100%"
          }
        },
        "2df44da7e8ec49e9be9aa16d7a59843c": {
          "model_module": "@jupyter-widgets/controls",
          "model_name": "FloatProgressModel",
          "model_module_version": "1.5.0",
          "state": {
            "_dom_classes": [],
            "_model_module": "@jupyter-widgets/controls",
            "_model_module_version": "1.5.0",
            "_model_name": "FloatProgressModel",
            "_view_count": null,
            "_view_module": "@jupyter-widgets/controls",
            "_view_module_version": "1.5.0",
            "_view_name": "ProgressView",
            "bar_style": "success",
            "description": "",
            "description_tooltip": null,
            "layout": "IPY_MODEL_8d4a2b00c2794d24a8db772c4e40b095",
            "max": 3498,
            "min": 0,
            "orientation": "horizontal",
            "style": "IPY_MODEL_038f8969c04f46b980e504847bf51a35",
            "value": 3498
          }
        },
        "31c0d139895d4cf19fabcf6edc5f9c3a": {
          "model_module": "@jupyter-widgets/controls",
          "model_name": "HTMLModel",
          "model_module_version": "1.5.0",
          "state": {
            "_dom_classes": [],
            "_model_module": "@jupyter-widgets/controls",
            "_model_module_version": "1.5.0",
            "_model_name": "HTMLModel",
            "_view_count": null,
            "_view_module": "@jupyter-widgets/controls",
            "_view_module_version": "1.5.0",
            "_view_name": "HTMLView",
            "description": "",
            "description_tooltip": null,
            "layout": "IPY_MODEL_a4f54ec14a654d9ea2438ff9aa7aa41d",
            "placeholder": "​",
            "style": "IPY_MODEL_a5ea9feb9c4c4913a4ec9b778dd3dd43",
            "value": " 3.50k/3.50k [00:00&lt;00:00, 140kB/s]"
          }
        },
        "0f5793f098f64735807a0d32836d6057": {
          "model_module": "@jupyter-widgets/base",
          "model_name": "LayoutModel",
          "model_module_version": "1.2.0",
          "state": {
            "_model_module": "@jupyter-widgets/base",
            "_model_module_version": "1.2.0",
            "_model_name": "LayoutModel",
            "_view_count": null,
            "_view_module": "@jupyter-widgets/base",
            "_view_module_version": "1.2.0",
            "_view_name": "LayoutView",
            "align_content": null,
            "align_items": null,
            "align_self": null,
            "border": null,
            "bottom": null,
            "display": null,
            "flex": null,
            "flex_flow": null,
            "grid_area": null,
            "grid_auto_columns": null,
            "grid_auto_flow": null,
            "grid_auto_rows": null,
            "grid_column": null,
            "grid_gap": null,
            "grid_row": null,
            "grid_template_areas": null,
            "grid_template_columns": null,
            "grid_template_rows": null,
            "height": null,
            "justify_content": null,
            "justify_items": null,
            "left": null,
            "margin": null,
            "max_height": null,
            "max_width": null,
            "min_height": null,
            "min_width": null,
            "object_fit": null,
            "object_position": null,
            "order": null,
            "overflow": null,
            "overflow_x": null,
            "overflow_y": null,
            "padding": null,
            "right": null,
            "top": null,
            "visibility": null,
            "width": null
          }
        },
        "4219346d5dd7410fa5892f74b650f391": {
          "model_module": "@jupyter-widgets/base",
          "model_name": "LayoutModel",
          "model_module_version": "1.2.0",
          "state": {
            "_model_module": "@jupyter-widgets/base",
            "_model_module_version": "1.2.0",
            "_model_name": "LayoutModel",
            "_view_count": null,
            "_view_module": "@jupyter-widgets/base",
            "_view_module_version": "1.2.0",
            "_view_name": "LayoutView",
            "align_content": null,
            "align_items": null,
            "align_self": null,
            "border": null,
            "bottom": null,
            "display": null,
            "flex": null,
            "flex_flow": null,
            "grid_area": null,
            "grid_auto_columns": null,
            "grid_auto_flow": null,
            "grid_auto_rows": null,
            "grid_column": null,
            "grid_gap": null,
            "grid_row": null,
            "grid_template_areas": null,
            "grid_template_columns": null,
            "grid_template_rows": null,
            "height": null,
            "justify_content": null,
            "justify_items": null,
            "left": null,
            "margin": null,
            "max_height": null,
            "max_width": null,
            "min_height": null,
            "min_width": null,
            "object_fit": null,
            "object_position": null,
            "order": null,
            "overflow": null,
            "overflow_x": null,
            "overflow_y": null,
            "padding": null,
            "right": null,
            "top": null,
            "visibility": null,
            "width": null
          }
        },
        "119b449606874425be477058dcde34b4": {
          "model_module": "@jupyter-widgets/controls",
          "model_name": "DescriptionStyleModel",
          "model_module_version": "1.5.0",
          "state": {
            "_model_module": "@jupyter-widgets/controls",
            "_model_module_version": "1.5.0",
            "_model_name": "DescriptionStyleModel",
            "_view_count": null,
            "_view_module": "@jupyter-widgets/base",
            "_view_module_version": "1.2.0",
            "_view_name": "StyleView",
            "description_width": ""
          }
        },
        "8d4a2b00c2794d24a8db772c4e40b095": {
          "model_module": "@jupyter-widgets/base",
          "model_name": "LayoutModel",
          "model_module_version": "1.2.0",
          "state": {
            "_model_module": "@jupyter-widgets/base",
            "_model_module_version": "1.2.0",
            "_model_name": "LayoutModel",
            "_view_count": null,
            "_view_module": "@jupyter-widgets/base",
            "_view_module_version": "1.2.0",
            "_view_name": "LayoutView",
            "align_content": null,
            "align_items": null,
            "align_self": null,
            "border": null,
            "bottom": null,
            "display": null,
            "flex": null,
            "flex_flow": null,
            "grid_area": null,
            "grid_auto_columns": null,
            "grid_auto_flow": null,
            "grid_auto_rows": null,
            "grid_column": null,
            "grid_gap": null,
            "grid_row": null,
            "grid_template_areas": null,
            "grid_template_columns": null,
            "grid_template_rows": null,
            "height": null,
            "justify_content": null,
            "justify_items": null,
            "left": null,
            "margin": null,
            "max_height": null,
            "max_width": null,
            "min_height": null,
            "min_width": null,
            "object_fit": null,
            "object_position": null,
            "order": null,
            "overflow": null,
            "overflow_x": null,
            "overflow_y": null,
            "padding": null,
            "right": null,
            "top": null,
            "visibility": null,
            "width": null
          }
        },
        "038f8969c04f46b980e504847bf51a35": {
          "model_module": "@jupyter-widgets/controls",
          "model_name": "ProgressStyleModel",
          "model_module_version": "1.5.0",
          "state": {
            "_model_module": "@jupyter-widgets/controls",
            "_model_module_version": "1.5.0",
            "_model_name": "ProgressStyleModel",
            "_view_count": null,
            "_view_module": "@jupyter-widgets/base",
            "_view_module_version": "1.2.0",
            "_view_name": "StyleView",
            "bar_color": null,
            "description_width": ""
          }
        },
        "a4f54ec14a654d9ea2438ff9aa7aa41d": {
          "model_module": "@jupyter-widgets/base",
          "model_name": "LayoutModel",
          "model_module_version": "1.2.0",
          "state": {
            "_model_module": "@jupyter-widgets/base",
            "_model_module_version": "1.2.0",
            "_model_name": "LayoutModel",
            "_view_count": null,
            "_view_module": "@jupyter-widgets/base",
            "_view_module_version": "1.2.0",
            "_view_name": "LayoutView",
            "align_content": null,
            "align_items": null,
            "align_self": null,
            "border": null,
            "bottom": null,
            "display": null,
            "flex": null,
            "flex_flow": null,
            "grid_area": null,
            "grid_auto_columns": null,
            "grid_auto_flow": null,
            "grid_auto_rows": null,
            "grid_column": null,
            "grid_gap": null,
            "grid_row": null,
            "grid_template_areas": null,
            "grid_template_columns": null,
            "grid_template_rows": null,
            "height": null,
            "justify_content": null,
            "justify_items": null,
            "left": null,
            "margin": null,
            "max_height": null,
            "max_width": null,
            "min_height": null,
            "min_width": null,
            "object_fit": null,
            "object_position": null,
            "order": null,
            "overflow": null,
            "overflow_x": null,
            "overflow_y": null,
            "padding": null,
            "right": null,
            "top": null,
            "visibility": null,
            "width": null
          }
        },
        "a5ea9feb9c4c4913a4ec9b778dd3dd43": {
          "model_module": "@jupyter-widgets/controls",
          "model_name": "DescriptionStyleModel",
          "model_module_version": "1.5.0",
          "state": {
            "_model_module": "@jupyter-widgets/controls",
            "_model_module_version": "1.5.0",
            "_model_name": "DescriptionStyleModel",
            "_view_count": null,
            "_view_module": "@jupyter-widgets/base",
            "_view_module_version": "1.2.0",
            "_view_name": "StyleView",
            "description_width": ""
          }
        },
        "f8123d84149540d0a03c3e411502bdbc": {
          "model_module": "@jupyter-widgets/controls",
          "model_name": "HBoxModel",
          "model_module_version": "1.5.0",
          "state": {
            "_dom_classes": [],
            "_model_module": "@jupyter-widgets/controls",
            "_model_module_version": "1.5.0",
            "_model_name": "HBoxModel",
            "_view_count": null,
            "_view_module": "@jupyter-widgets/controls",
            "_view_module_version": "1.5.0",
            "_view_name": "HBoxView",
            "box_style": "",
            "children": [
              "IPY_MODEL_987e4b09c4684a9e974118922b7961f1",
              "IPY_MODEL_19cc1ad2172a411f9325337446caa841",
              "IPY_MODEL_134a4e9ff97647d6a987cb91a73fdd4b"
            ],
            "layout": "IPY_MODEL_be128fb30d004dfa97afc7e1b68bf275"
          }
        },
        "987e4b09c4684a9e974118922b7961f1": {
          "model_module": "@jupyter-widgets/controls",
          "model_name": "HTMLModel",
          "model_module_version": "1.5.0",
          "state": {
            "_dom_classes": [],
            "_model_module": "@jupyter-widgets/controls",
            "_model_module_version": "1.5.0",
            "_model_name": "HTMLModel",
            "_view_count": null,
            "_view_module": "@jupyter-widgets/controls",
            "_view_module_version": "1.5.0",
            "_view_name": "HTMLView",
            "description": "",
            "description_tooltip": null,
            "layout": "IPY_MODEL_38dbc80ede4e459eb7088333957824e2",
            "placeholder": "​",
            "style": "IPY_MODEL_9d945f170dae427194f7aa79dfc9c3d6",
            "value": "Downloading readme: 100%"
          }
        },
        "19cc1ad2172a411f9325337446caa841": {
          "model_module": "@jupyter-widgets/controls",
          "model_name": "FloatProgressModel",
          "model_module_version": "1.5.0",
          "state": {
            "_dom_classes": [],
            "_model_module": "@jupyter-widgets/controls",
            "_model_module_version": "1.5.0",
            "_model_name": "FloatProgressModel",
            "_view_count": null,
            "_view_module": "@jupyter-widgets/controls",
            "_view_module_version": "1.5.0",
            "_view_name": "ProgressView",
            "bar_style": "success",
            "description": "",
            "description_tooltip": null,
            "layout": "IPY_MODEL_435f0b6d478943d088dea24398201f00",
            "max": 1693,
            "min": 0,
            "orientation": "horizontal",
            "style": "IPY_MODEL_919c971c488e4ea8a319fef7f7534af5",
            "value": 1693
          }
        },
        "134a4e9ff97647d6a987cb91a73fdd4b": {
          "model_module": "@jupyter-widgets/controls",
          "model_name": "HTMLModel",
          "model_module_version": "1.5.0",
          "state": {
            "_dom_classes": [],
            "_model_module": "@jupyter-widgets/controls",
            "_model_module_version": "1.5.0",
            "_model_name": "HTMLModel",
            "_view_count": null,
            "_view_module": "@jupyter-widgets/controls",
            "_view_module_version": "1.5.0",
            "_view_name": "HTMLView",
            "description": "",
            "description_tooltip": null,
            "layout": "IPY_MODEL_4f752f16dfeb4771898dd9910c524bdc",
            "placeholder": "​",
            "style": "IPY_MODEL_820686cb6155467e9071616c84feb5c5",
            "value": " 1.69k/1.69k [00:00&lt;00:00, 50.4kB/s]"
          }
        },
        "be128fb30d004dfa97afc7e1b68bf275": {
          "model_module": "@jupyter-widgets/base",
          "model_name": "LayoutModel",
          "model_module_version": "1.2.0",
          "state": {
            "_model_module": "@jupyter-widgets/base",
            "_model_module_version": "1.2.0",
            "_model_name": "LayoutModel",
            "_view_count": null,
            "_view_module": "@jupyter-widgets/base",
            "_view_module_version": "1.2.0",
            "_view_name": "LayoutView",
            "align_content": null,
            "align_items": null,
            "align_self": null,
            "border": null,
            "bottom": null,
            "display": null,
            "flex": null,
            "flex_flow": null,
            "grid_area": null,
            "grid_auto_columns": null,
            "grid_auto_flow": null,
            "grid_auto_rows": null,
            "grid_column": null,
            "grid_gap": null,
            "grid_row": null,
            "grid_template_areas": null,
            "grid_template_columns": null,
            "grid_template_rows": null,
            "height": null,
            "justify_content": null,
            "justify_items": null,
            "left": null,
            "margin": null,
            "max_height": null,
            "max_width": null,
            "min_height": null,
            "min_width": null,
            "object_fit": null,
            "object_position": null,
            "order": null,
            "overflow": null,
            "overflow_x": null,
            "overflow_y": null,
            "padding": null,
            "right": null,
            "top": null,
            "visibility": null,
            "width": null
          }
        },
        "38dbc80ede4e459eb7088333957824e2": {
          "model_module": "@jupyter-widgets/base",
          "model_name": "LayoutModel",
          "model_module_version": "1.2.0",
          "state": {
            "_model_module": "@jupyter-widgets/base",
            "_model_module_version": "1.2.0",
            "_model_name": "LayoutModel",
            "_view_count": null,
            "_view_module": "@jupyter-widgets/base",
            "_view_module_version": "1.2.0",
            "_view_name": "LayoutView",
            "align_content": null,
            "align_items": null,
            "align_self": null,
            "border": null,
            "bottom": null,
            "display": null,
            "flex": null,
            "flex_flow": null,
            "grid_area": null,
            "grid_auto_columns": null,
            "grid_auto_flow": null,
            "grid_auto_rows": null,
            "grid_column": null,
            "grid_gap": null,
            "grid_row": null,
            "grid_template_areas": null,
            "grid_template_columns": null,
            "grid_template_rows": null,
            "height": null,
            "justify_content": null,
            "justify_items": null,
            "left": null,
            "margin": null,
            "max_height": null,
            "max_width": null,
            "min_height": null,
            "min_width": null,
            "object_fit": null,
            "object_position": null,
            "order": null,
            "overflow": null,
            "overflow_x": null,
            "overflow_y": null,
            "padding": null,
            "right": null,
            "top": null,
            "visibility": null,
            "width": null
          }
        },
        "9d945f170dae427194f7aa79dfc9c3d6": {
          "model_module": "@jupyter-widgets/controls",
          "model_name": "DescriptionStyleModel",
          "model_module_version": "1.5.0",
          "state": {
            "_model_module": "@jupyter-widgets/controls",
            "_model_module_version": "1.5.0",
            "_model_name": "DescriptionStyleModel",
            "_view_count": null,
            "_view_module": "@jupyter-widgets/base",
            "_view_module_version": "1.2.0",
            "_view_name": "StyleView",
            "description_width": ""
          }
        },
        "435f0b6d478943d088dea24398201f00": {
          "model_module": "@jupyter-widgets/base",
          "model_name": "LayoutModel",
          "model_module_version": "1.2.0",
          "state": {
            "_model_module": "@jupyter-widgets/base",
            "_model_module_version": "1.2.0",
            "_model_name": "LayoutModel",
            "_view_count": null,
            "_view_module": "@jupyter-widgets/base",
            "_view_module_version": "1.2.0",
            "_view_name": "LayoutView",
            "align_content": null,
            "align_items": null,
            "align_self": null,
            "border": null,
            "bottom": null,
            "display": null,
            "flex": null,
            "flex_flow": null,
            "grid_area": null,
            "grid_auto_columns": null,
            "grid_auto_flow": null,
            "grid_auto_rows": null,
            "grid_column": null,
            "grid_gap": null,
            "grid_row": null,
            "grid_template_areas": null,
            "grid_template_columns": null,
            "grid_template_rows": null,
            "height": null,
            "justify_content": null,
            "justify_items": null,
            "left": null,
            "margin": null,
            "max_height": null,
            "max_width": null,
            "min_height": null,
            "min_width": null,
            "object_fit": null,
            "object_position": null,
            "order": null,
            "overflow": null,
            "overflow_x": null,
            "overflow_y": null,
            "padding": null,
            "right": null,
            "top": null,
            "visibility": null,
            "width": null
          }
        },
        "919c971c488e4ea8a319fef7f7534af5": {
          "model_module": "@jupyter-widgets/controls",
          "model_name": "ProgressStyleModel",
          "model_module_version": "1.5.0",
          "state": {
            "_model_module": "@jupyter-widgets/controls",
            "_model_module_version": "1.5.0",
            "_model_name": "ProgressStyleModel",
            "_view_count": null,
            "_view_module": "@jupyter-widgets/base",
            "_view_module_version": "1.2.0",
            "_view_name": "StyleView",
            "bar_color": null,
            "description_width": ""
          }
        },
        "4f752f16dfeb4771898dd9910c524bdc": {
          "model_module": "@jupyter-widgets/base",
          "model_name": "LayoutModel",
          "model_module_version": "1.2.0",
          "state": {
            "_model_module": "@jupyter-widgets/base",
            "_model_module_version": "1.2.0",
            "_model_name": "LayoutModel",
            "_view_count": null,
            "_view_module": "@jupyter-widgets/base",
            "_view_module_version": "1.2.0",
            "_view_name": "LayoutView",
            "align_content": null,
            "align_items": null,
            "align_self": null,
            "border": null,
            "bottom": null,
            "display": null,
            "flex": null,
            "flex_flow": null,
            "grid_area": null,
            "grid_auto_columns": null,
            "grid_auto_flow": null,
            "grid_auto_rows": null,
            "grid_column": null,
            "grid_gap": null,
            "grid_row": null,
            "grid_template_areas": null,
            "grid_template_columns": null,
            "grid_template_rows": null,
            "height": null,
            "justify_content": null,
            "justify_items": null,
            "left": null,
            "margin": null,
            "max_height": null,
            "max_width": null,
            "min_height": null,
            "min_width": null,
            "object_fit": null,
            "object_position": null,
            "order": null,
            "overflow": null,
            "overflow_x": null,
            "overflow_y": null,
            "padding": null,
            "right": null,
            "top": null,
            "visibility": null,
            "width": null
          }
        },
        "820686cb6155467e9071616c84feb5c5": {
          "model_module": "@jupyter-widgets/controls",
          "model_name": "DescriptionStyleModel",
          "model_module_version": "1.5.0",
          "state": {
            "_model_module": "@jupyter-widgets/controls",
            "_model_module_version": "1.5.0",
            "_model_name": "DescriptionStyleModel",
            "_view_count": null,
            "_view_module": "@jupyter-widgets/base",
            "_view_module_version": "1.2.0",
            "_view_name": "StyleView",
            "description_width": ""
          }
        },
        "00c354e82ee649a2a714dac33206e0a2": {
          "model_module": "@jupyter-widgets/controls",
          "model_name": "HBoxModel",
          "model_module_version": "1.5.0",
          "state": {
            "_dom_classes": [],
            "_model_module": "@jupyter-widgets/controls",
            "_model_module_version": "1.5.0",
            "_model_name": "HBoxModel",
            "_view_count": null,
            "_view_module": "@jupyter-widgets/controls",
            "_view_module_version": "1.5.0",
            "_view_name": "HBoxView",
            "box_style": "",
            "children": [
              "IPY_MODEL_1c7c86db8218401483f06ce1f0139de6",
              "IPY_MODEL_811e2773992540559436958cf77448ea",
              "IPY_MODEL_0f7462a4af2541e9bb71783c66f22cd5"
            ],
            "layout": "IPY_MODEL_91e7b170a71d4a028b711054f5c5a774"
          }
        },
        "1c7c86db8218401483f06ce1f0139de6": {
          "model_module": "@jupyter-widgets/controls",
          "model_name": "HTMLModel",
          "model_module_version": "1.5.0",
          "state": {
            "_dom_classes": [],
            "_model_module": "@jupyter-widgets/controls",
            "_model_module_version": "1.5.0",
            "_model_name": "HTMLModel",
            "_view_count": null,
            "_view_module": "@jupyter-widgets/controls",
            "_view_module_version": "1.5.0",
            "_view_name": "HTMLView",
            "description": "",
            "description_tooltip": null,
            "layout": "IPY_MODEL_96b3d45edf9945b08265709ce75e1fef",
            "placeholder": "​",
            "style": "IPY_MODEL_21f073d1cabe416e857c943fe4975854",
            "value": "Downloading data: 100%"
          }
        },
        "811e2773992540559436958cf77448ea": {
          "model_module": "@jupyter-widgets/controls",
          "model_name": "FloatProgressModel",
          "model_module_version": "1.5.0",
          "state": {
            "_dom_classes": [],
            "_model_module": "@jupyter-widgets/controls",
            "_model_module_version": "1.5.0",
            "_model_name": "FloatProgressModel",
            "_view_count": null,
            "_view_module": "@jupyter-widgets/controls",
            "_view_module_version": "1.5.0",
            "_view_name": "ProgressView",
            "bar_style": "success",
            "description": "",
            "description_tooltip": null,
            "layout": "IPY_MODEL_bfbea0a5b02d497a8139e2d42052eb08",
            "max": 110279045,
            "min": 0,
            "orientation": "horizontal",
            "style": "IPY_MODEL_d3f8b2f8c46f47949dc67d667481deac",
            "value": 110279045
          }
        },
        "0f7462a4af2541e9bb71783c66f22cd5": {
          "model_module": "@jupyter-widgets/controls",
          "model_name": "HTMLModel",
          "model_module_version": "1.5.0",
          "state": {
            "_dom_classes": [],
            "_model_module": "@jupyter-widgets/controls",
            "_model_module_version": "1.5.0",
            "_model_name": "HTMLModel",
            "_view_count": null,
            "_view_module": "@jupyter-widgets/controls",
            "_view_module_version": "1.5.0",
            "_view_name": "HTMLView",
            "description": "",
            "description_tooltip": null,
            "layout": "IPY_MODEL_fc899ee4fba947bcb7eb2cd7ab02ae1a",
            "placeholder": "​",
            "style": "IPY_MODEL_1c11b19a4a414142b84b0f0110f7522b",
            "value": " 110M/110M [00:02&lt;00:00, 50.5MB/s]"
          }
        },
        "91e7b170a71d4a028b711054f5c5a774": {
          "model_module": "@jupyter-widgets/base",
          "model_name": "LayoutModel",
          "model_module_version": "1.2.0",
          "state": {
            "_model_module": "@jupyter-widgets/base",
            "_model_module_version": "1.2.0",
            "_model_name": "LayoutModel",
            "_view_count": null,
            "_view_module": "@jupyter-widgets/base",
            "_view_module_version": "1.2.0",
            "_view_name": "LayoutView",
            "align_content": null,
            "align_items": null,
            "align_self": null,
            "border": null,
            "bottom": null,
            "display": null,
            "flex": null,
            "flex_flow": null,
            "grid_area": null,
            "grid_auto_columns": null,
            "grid_auto_flow": null,
            "grid_auto_rows": null,
            "grid_column": null,
            "grid_gap": null,
            "grid_row": null,
            "grid_template_areas": null,
            "grid_template_columns": null,
            "grid_template_rows": null,
            "height": null,
            "justify_content": null,
            "justify_items": null,
            "left": null,
            "margin": null,
            "max_height": null,
            "max_width": null,
            "min_height": null,
            "min_width": null,
            "object_fit": null,
            "object_position": null,
            "order": null,
            "overflow": null,
            "overflow_x": null,
            "overflow_y": null,
            "padding": null,
            "right": null,
            "top": null,
            "visibility": null,
            "width": null
          }
        },
        "96b3d45edf9945b08265709ce75e1fef": {
          "model_module": "@jupyter-widgets/base",
          "model_name": "LayoutModel",
          "model_module_version": "1.2.0",
          "state": {
            "_model_module": "@jupyter-widgets/base",
            "_model_module_version": "1.2.0",
            "_model_name": "LayoutModel",
            "_view_count": null,
            "_view_module": "@jupyter-widgets/base",
            "_view_module_version": "1.2.0",
            "_view_name": "LayoutView",
            "align_content": null,
            "align_items": null,
            "align_self": null,
            "border": null,
            "bottom": null,
            "display": null,
            "flex": null,
            "flex_flow": null,
            "grid_area": null,
            "grid_auto_columns": null,
            "grid_auto_flow": null,
            "grid_auto_rows": null,
            "grid_column": null,
            "grid_gap": null,
            "grid_row": null,
            "grid_template_areas": null,
            "grid_template_columns": null,
            "grid_template_rows": null,
            "height": null,
            "justify_content": null,
            "justify_items": null,
            "left": null,
            "margin": null,
            "max_height": null,
            "max_width": null,
            "min_height": null,
            "min_width": null,
            "object_fit": null,
            "object_position": null,
            "order": null,
            "overflow": null,
            "overflow_x": null,
            "overflow_y": null,
            "padding": null,
            "right": null,
            "top": null,
            "visibility": null,
            "width": null
          }
        },
        "21f073d1cabe416e857c943fe4975854": {
          "model_module": "@jupyter-widgets/controls",
          "model_name": "DescriptionStyleModel",
          "model_module_version": "1.5.0",
          "state": {
            "_model_module": "@jupyter-widgets/controls",
            "_model_module_version": "1.5.0",
            "_model_name": "DescriptionStyleModel",
            "_view_count": null,
            "_view_module": "@jupyter-widgets/base",
            "_view_module_version": "1.2.0",
            "_view_name": "StyleView",
            "description_width": ""
          }
        },
        "bfbea0a5b02d497a8139e2d42052eb08": {
          "model_module": "@jupyter-widgets/base",
          "model_name": "LayoutModel",
          "model_module_version": "1.2.0",
          "state": {
            "_model_module": "@jupyter-widgets/base",
            "_model_module_version": "1.2.0",
            "_model_name": "LayoutModel",
            "_view_count": null,
            "_view_module": "@jupyter-widgets/base",
            "_view_module_version": "1.2.0",
            "_view_name": "LayoutView",
            "align_content": null,
            "align_items": null,
            "align_self": null,
            "border": null,
            "bottom": null,
            "display": null,
            "flex": null,
            "flex_flow": null,
            "grid_area": null,
            "grid_auto_columns": null,
            "grid_auto_flow": null,
            "grid_auto_rows": null,
            "grid_column": null,
            "grid_gap": null,
            "grid_row": null,
            "grid_template_areas": null,
            "grid_template_columns": null,
            "grid_template_rows": null,
            "height": null,
            "justify_content": null,
            "justify_items": null,
            "left": null,
            "margin": null,
            "max_height": null,
            "max_width": null,
            "min_height": null,
            "min_width": null,
            "object_fit": null,
            "object_position": null,
            "order": null,
            "overflow": null,
            "overflow_x": null,
            "overflow_y": null,
            "padding": null,
            "right": null,
            "top": null,
            "visibility": null,
            "width": null
          }
        },
        "d3f8b2f8c46f47949dc67d667481deac": {
          "model_module": "@jupyter-widgets/controls",
          "model_name": "ProgressStyleModel",
          "model_module_version": "1.5.0",
          "state": {
            "_model_module": "@jupyter-widgets/controls",
            "_model_module_version": "1.5.0",
            "_model_name": "ProgressStyleModel",
            "_view_count": null,
            "_view_module": "@jupyter-widgets/base",
            "_view_module_version": "1.2.0",
            "_view_name": "StyleView",
            "bar_color": null,
            "description_width": ""
          }
        },
        "fc899ee4fba947bcb7eb2cd7ab02ae1a": {
          "model_module": "@jupyter-widgets/base",
          "model_name": "LayoutModel",
          "model_module_version": "1.2.0",
          "state": {
            "_model_module": "@jupyter-widgets/base",
            "_model_module_version": "1.2.0",
            "_model_name": "LayoutModel",
            "_view_count": null,
            "_view_module": "@jupyter-widgets/base",
            "_view_module_version": "1.2.0",
            "_view_name": "LayoutView",
            "align_content": null,
            "align_items": null,
            "align_self": null,
            "border": null,
            "bottom": null,
            "display": null,
            "flex": null,
            "flex_flow": null,
            "grid_area": null,
            "grid_auto_columns": null,
            "grid_auto_flow": null,
            "grid_auto_rows": null,
            "grid_column": null,
            "grid_gap": null,
            "grid_row": null,
            "grid_template_areas": null,
            "grid_template_columns": null,
            "grid_template_rows": null,
            "height": null,
            "justify_content": null,
            "justify_items": null,
            "left": null,
            "margin": null,
            "max_height": null,
            "max_width": null,
            "min_height": null,
            "min_width": null,
            "object_fit": null,
            "object_position": null,
            "order": null,
            "overflow": null,
            "overflow_x": null,
            "overflow_y": null,
            "padding": null,
            "right": null,
            "top": null,
            "visibility": null,
            "width": null
          }
        },
        "1c11b19a4a414142b84b0f0110f7522b": {
          "model_module": "@jupyter-widgets/controls",
          "model_name": "DescriptionStyleModel",
          "model_module_version": "1.5.0",
          "state": {
            "_model_module": "@jupyter-widgets/controls",
            "_model_module_version": "1.5.0",
            "_model_name": "DescriptionStyleModel",
            "_view_count": null,
            "_view_module": "@jupyter-widgets/base",
            "_view_module_version": "1.2.0",
            "_view_name": "StyleView",
            "description_width": ""
          }
        },
        "c41a5645d4db4207bec0eb73932abc65": {
          "model_module": "@jupyter-widgets/controls",
          "model_name": "HBoxModel",
          "model_module_version": "1.5.0",
          "state": {
            "_dom_classes": [],
            "_model_module": "@jupyter-widgets/controls",
            "_model_module_version": "1.5.0",
            "_model_name": "HBoxModel",
            "_view_count": null,
            "_view_module": "@jupyter-widgets/controls",
            "_view_module_version": "1.5.0",
            "_view_name": "HBoxView",
            "box_style": "",
            "children": [
              "IPY_MODEL_c843716730534b459d6f4fcc8fc6b659",
              "IPY_MODEL_e3e58cbd6b1148d39e32ee611159df20",
              "IPY_MODEL_ca13b5f0b382430fbe1e8fd9027e31ea"
            ],
            "layout": "IPY_MODEL_2b1e52de218e400180847f8b63d28d40"
          }
        },
        "c843716730534b459d6f4fcc8fc6b659": {
          "model_module": "@jupyter-widgets/controls",
          "model_name": "HTMLModel",
          "model_module_version": "1.5.0",
          "state": {
            "_dom_classes": [],
            "_model_module": "@jupyter-widgets/controls",
            "_model_module_version": "1.5.0",
            "_model_name": "HTMLModel",
            "_view_count": null,
            "_view_module": "@jupyter-widgets/controls",
            "_view_module_version": "1.5.0",
            "_view_name": "HTMLView",
            "description": "",
            "description_tooltip": null,
            "layout": "IPY_MODEL_a128735d5d03443dbc12eaa3d49ef565",
            "placeholder": "​",
            "style": "IPY_MODEL_1e2c1e322c09483ab04a9dc0c6242f74",
            "value": "Generating train split: "
          }
        },
        "e3e58cbd6b1148d39e32ee611159df20": {
          "model_module": "@jupyter-widgets/controls",
          "model_name": "FloatProgressModel",
          "model_module_version": "1.5.0",
          "state": {
            "_dom_classes": [],
            "_model_module": "@jupyter-widgets/controls",
            "_model_module_version": "1.5.0",
            "_model_name": "FloatProgressModel",
            "_view_count": null,
            "_view_module": "@jupyter-widgets/controls",
            "_view_module_version": "1.5.0",
            "_view_name": "ProgressView",
            "bar_style": "success",
            "description": "",
            "description_tooltip": null,
            "layout": "IPY_MODEL_4143ab23c64840d8a11f719e079718b6",
            "max": 1,
            "min": 0,
            "orientation": "horizontal",
            "style": "IPY_MODEL_0f775ecf4fd641a5956f769f03f4a685",
            "value": 1
          }
        },
        "ca13b5f0b382430fbe1e8fd9027e31ea": {
          "model_module": "@jupyter-widgets/controls",
          "model_name": "HTMLModel",
          "model_module_version": "1.5.0",
          "state": {
            "_dom_classes": [],
            "_model_module": "@jupyter-widgets/controls",
            "_model_module_version": "1.5.0",
            "_model_name": "HTMLModel",
            "_view_count": null,
            "_view_module": "@jupyter-widgets/controls",
            "_view_module_version": "1.5.0",
            "_view_name": "HTMLView",
            "description": "",
            "description_tooltip": null,
            "layout": "IPY_MODEL_e7f94ffe1dd34646b1ff2fa165920d19",
            "placeholder": "​",
            "style": "IPY_MODEL_44cd50812b0446ce8f8ae4accd3e5a17",
            "value": " 4838/0 [00:00&lt;00:00, 9813.34 examples/s]"
          }
        },
        "2b1e52de218e400180847f8b63d28d40": {
          "model_module": "@jupyter-widgets/base",
          "model_name": "LayoutModel",
          "model_module_version": "1.2.0",
          "state": {
            "_model_module": "@jupyter-widgets/base",
            "_model_module_version": "1.2.0",
            "_model_name": "LayoutModel",
            "_view_count": null,
            "_view_module": "@jupyter-widgets/base",
            "_view_module_version": "1.2.0",
            "_view_name": "LayoutView",
            "align_content": null,
            "align_items": null,
            "align_self": null,
            "border": null,
            "bottom": null,
            "display": null,
            "flex": null,
            "flex_flow": null,
            "grid_area": null,
            "grid_auto_columns": null,
            "grid_auto_flow": null,
            "grid_auto_rows": null,
            "grid_column": null,
            "grid_gap": null,
            "grid_row": null,
            "grid_template_areas": null,
            "grid_template_columns": null,
            "grid_template_rows": null,
            "height": null,
            "justify_content": null,
            "justify_items": null,
            "left": null,
            "margin": null,
            "max_height": null,
            "max_width": null,
            "min_height": null,
            "min_width": null,
            "object_fit": null,
            "object_position": null,
            "order": null,
            "overflow": null,
            "overflow_x": null,
            "overflow_y": null,
            "padding": null,
            "right": null,
            "top": null,
            "visibility": null,
            "width": null
          }
        },
        "a128735d5d03443dbc12eaa3d49ef565": {
          "model_module": "@jupyter-widgets/base",
          "model_name": "LayoutModel",
          "model_module_version": "1.2.0",
          "state": {
            "_model_module": "@jupyter-widgets/base",
            "_model_module_version": "1.2.0",
            "_model_name": "LayoutModel",
            "_view_count": null,
            "_view_module": "@jupyter-widgets/base",
            "_view_module_version": "1.2.0",
            "_view_name": "LayoutView",
            "align_content": null,
            "align_items": null,
            "align_self": null,
            "border": null,
            "bottom": null,
            "display": null,
            "flex": null,
            "flex_flow": null,
            "grid_area": null,
            "grid_auto_columns": null,
            "grid_auto_flow": null,
            "grid_auto_rows": null,
            "grid_column": null,
            "grid_gap": null,
            "grid_row": null,
            "grid_template_areas": null,
            "grid_template_columns": null,
            "grid_template_rows": null,
            "height": null,
            "justify_content": null,
            "justify_items": null,
            "left": null,
            "margin": null,
            "max_height": null,
            "max_width": null,
            "min_height": null,
            "min_width": null,
            "object_fit": null,
            "object_position": null,
            "order": null,
            "overflow": null,
            "overflow_x": null,
            "overflow_y": null,
            "padding": null,
            "right": null,
            "top": null,
            "visibility": null,
            "width": null
          }
        },
        "1e2c1e322c09483ab04a9dc0c6242f74": {
          "model_module": "@jupyter-widgets/controls",
          "model_name": "DescriptionStyleModel",
          "model_module_version": "1.5.0",
          "state": {
            "_model_module": "@jupyter-widgets/controls",
            "_model_module_version": "1.5.0",
            "_model_name": "DescriptionStyleModel",
            "_view_count": null,
            "_view_module": "@jupyter-widgets/base",
            "_view_module_version": "1.2.0",
            "_view_name": "StyleView",
            "description_width": ""
          }
        },
        "4143ab23c64840d8a11f719e079718b6": {
          "model_module": "@jupyter-widgets/base",
          "model_name": "LayoutModel",
          "model_module_version": "1.2.0",
          "state": {
            "_model_module": "@jupyter-widgets/base",
            "_model_module_version": "1.2.0",
            "_model_name": "LayoutModel",
            "_view_count": null,
            "_view_module": "@jupyter-widgets/base",
            "_view_module_version": "1.2.0",
            "_view_name": "LayoutView",
            "align_content": null,
            "align_items": null,
            "align_self": null,
            "border": null,
            "bottom": null,
            "display": null,
            "flex": null,
            "flex_flow": null,
            "grid_area": null,
            "grid_auto_columns": null,
            "grid_auto_flow": null,
            "grid_auto_rows": null,
            "grid_column": null,
            "grid_gap": null,
            "grid_row": null,
            "grid_template_areas": null,
            "grid_template_columns": null,
            "grid_template_rows": null,
            "height": null,
            "justify_content": null,
            "justify_items": null,
            "left": null,
            "margin": null,
            "max_height": null,
            "max_width": null,
            "min_height": null,
            "min_width": null,
            "object_fit": null,
            "object_position": null,
            "order": null,
            "overflow": null,
            "overflow_x": null,
            "overflow_y": null,
            "padding": null,
            "right": null,
            "top": null,
            "visibility": null,
            "width": "20px"
          }
        },
        "0f775ecf4fd641a5956f769f03f4a685": {
          "model_module": "@jupyter-widgets/controls",
          "model_name": "ProgressStyleModel",
          "model_module_version": "1.5.0",
          "state": {
            "_model_module": "@jupyter-widgets/controls",
            "_model_module_version": "1.5.0",
            "_model_name": "ProgressStyleModel",
            "_view_count": null,
            "_view_module": "@jupyter-widgets/base",
            "_view_module_version": "1.2.0",
            "_view_name": "StyleView",
            "bar_color": null,
            "description_width": ""
          }
        },
        "e7f94ffe1dd34646b1ff2fa165920d19": {
          "model_module": "@jupyter-widgets/base",
          "model_name": "LayoutModel",
          "model_module_version": "1.2.0",
          "state": {
            "_model_module": "@jupyter-widgets/base",
            "_model_module_version": "1.2.0",
            "_model_name": "LayoutModel",
            "_view_count": null,
            "_view_module": "@jupyter-widgets/base",
            "_view_module_version": "1.2.0",
            "_view_name": "LayoutView",
            "align_content": null,
            "align_items": null,
            "align_self": null,
            "border": null,
            "bottom": null,
            "display": null,
            "flex": null,
            "flex_flow": null,
            "grid_area": null,
            "grid_auto_columns": null,
            "grid_auto_flow": null,
            "grid_auto_rows": null,
            "grid_column": null,
            "grid_gap": null,
            "grid_row": null,
            "grid_template_areas": null,
            "grid_template_columns": null,
            "grid_template_rows": null,
            "height": null,
            "justify_content": null,
            "justify_items": null,
            "left": null,
            "margin": null,
            "max_height": null,
            "max_width": null,
            "min_height": null,
            "min_width": null,
            "object_fit": null,
            "object_position": null,
            "order": null,
            "overflow": null,
            "overflow_x": null,
            "overflow_y": null,
            "padding": null,
            "right": null,
            "top": null,
            "visibility": null,
            "width": null
          }
        },
        "44cd50812b0446ce8f8ae4accd3e5a17": {
          "model_module": "@jupyter-widgets/controls",
          "model_name": "DescriptionStyleModel",
          "model_module_version": "1.5.0",
          "state": {
            "_model_module": "@jupyter-widgets/controls",
            "_model_module_version": "1.5.0",
            "_model_name": "DescriptionStyleModel",
            "_view_count": null,
            "_view_module": "@jupyter-widgets/base",
            "_view_module_version": "1.2.0",
            "_view_name": "StyleView",
            "description_width": ""
          }
        },
        "895376c2d14d4e5a9bb7a0bcdeaf1ec3": {
          "model_module": "@jupyter-widgets/controls",
          "model_name": "HBoxModel",
          "model_module_version": "1.5.0",
          "state": {
            "_dom_classes": [],
            "_model_module": "@jupyter-widgets/controls",
            "_model_module_version": "1.5.0",
            "_model_name": "HBoxModel",
            "_view_count": null,
            "_view_module": "@jupyter-widgets/controls",
            "_view_module_version": "1.5.0",
            "_view_name": "HBoxView",
            "box_style": "",
            "children": [
              "IPY_MODEL_11cb39dca9874c5ea9cadd17a937cfb7",
              "IPY_MODEL_b87767a6c1774eae82e71c29d527ed37",
              "IPY_MODEL_20c3092cf5ba4cfa91a2620fc665f6e3"
            ],
            "layout": "IPY_MODEL_564af0bf0ab141a1a6442508e4ff7b42"
          }
        },
        "11cb39dca9874c5ea9cadd17a937cfb7": {
          "model_module": "@jupyter-widgets/controls",
          "model_name": "HTMLModel",
          "model_module_version": "1.5.0",
          "state": {
            "_dom_classes": [],
            "_model_module": "@jupyter-widgets/controls",
            "_model_module_version": "1.5.0",
            "_model_name": "HTMLModel",
            "_view_count": null,
            "_view_module": "@jupyter-widgets/controls",
            "_view_module_version": "1.5.0",
            "_view_name": "HTMLView",
            "description": "",
            "description_tooltip": null,
            "layout": "IPY_MODEL_54150761f6394ed6b0a868917f45b576",
            "placeholder": "​",
            "style": "IPY_MODEL_97ba1b8734f94f8a8e6beb6a68b59598",
            "value": "Generating test split: "
          }
        },
        "b87767a6c1774eae82e71c29d527ed37": {
          "model_module": "@jupyter-widgets/controls",
          "model_name": "FloatProgressModel",
          "model_module_version": "1.5.0",
          "state": {
            "_dom_classes": [],
            "_model_module": "@jupyter-widgets/controls",
            "_model_module_version": "1.5.0",
            "_model_name": "FloatProgressModel",
            "_view_count": null,
            "_view_module": "@jupyter-widgets/controls",
            "_view_module_version": "1.5.0",
            "_view_name": "ProgressView",
            "bar_style": "success",
            "description": "",
            "description_tooltip": null,
            "layout": "IPY_MODEL_d15ad81ab21b4586972aee77f3dd7be9",
            "max": 1,
            "min": 0,
            "orientation": "horizontal",
            "style": "IPY_MODEL_748b47e7275745abb6bae846166d1dc3",
            "value": 1
          }
        },
        "20c3092cf5ba4cfa91a2620fc665f6e3": {
          "model_module": "@jupyter-widgets/controls",
          "model_name": "HTMLModel",
          "model_module_version": "1.5.0",
          "state": {
            "_dom_classes": [],
            "_model_module": "@jupyter-widgets/controls",
            "_model_module_version": "1.5.0",
            "_model_name": "HTMLModel",
            "_view_count": null,
            "_view_module": "@jupyter-widgets/controls",
            "_view_module_version": "1.5.0",
            "_view_name": "HTMLView",
            "description": "",
            "description_tooltip": null,
            "layout": "IPY_MODEL_410affe39fdf47849957f7c744cafba9",
            "placeholder": "​",
            "style": "IPY_MODEL_da55580e6f2a4277bca805858c5346b5",
            "value": " 952/0 [00:00&lt;00:00, 6952.48 examples/s]"
          }
        },
        "564af0bf0ab141a1a6442508e4ff7b42": {
          "model_module": "@jupyter-widgets/base",
          "model_name": "LayoutModel",
          "model_module_version": "1.2.0",
          "state": {
            "_model_module": "@jupyter-widgets/base",
            "_model_module_version": "1.2.0",
            "_model_name": "LayoutModel",
            "_view_count": null,
            "_view_module": "@jupyter-widgets/base",
            "_view_module_version": "1.2.0",
            "_view_name": "LayoutView",
            "align_content": null,
            "align_items": null,
            "align_self": null,
            "border": null,
            "bottom": null,
            "display": null,
            "flex": null,
            "flex_flow": null,
            "grid_area": null,
            "grid_auto_columns": null,
            "grid_auto_flow": null,
            "grid_auto_rows": null,
            "grid_column": null,
            "grid_gap": null,
            "grid_row": null,
            "grid_template_areas": null,
            "grid_template_columns": null,
            "grid_template_rows": null,
            "height": null,
            "justify_content": null,
            "justify_items": null,
            "left": null,
            "margin": null,
            "max_height": null,
            "max_width": null,
            "min_height": null,
            "min_width": null,
            "object_fit": null,
            "object_position": null,
            "order": null,
            "overflow": null,
            "overflow_x": null,
            "overflow_y": null,
            "padding": null,
            "right": null,
            "top": null,
            "visibility": null,
            "width": null
          }
        },
        "54150761f6394ed6b0a868917f45b576": {
          "model_module": "@jupyter-widgets/base",
          "model_name": "LayoutModel",
          "model_module_version": "1.2.0",
          "state": {
            "_model_module": "@jupyter-widgets/base",
            "_model_module_version": "1.2.0",
            "_model_name": "LayoutModel",
            "_view_count": null,
            "_view_module": "@jupyter-widgets/base",
            "_view_module_version": "1.2.0",
            "_view_name": "LayoutView",
            "align_content": null,
            "align_items": null,
            "align_self": null,
            "border": null,
            "bottom": null,
            "display": null,
            "flex": null,
            "flex_flow": null,
            "grid_area": null,
            "grid_auto_columns": null,
            "grid_auto_flow": null,
            "grid_auto_rows": null,
            "grid_column": null,
            "grid_gap": null,
            "grid_row": null,
            "grid_template_areas": null,
            "grid_template_columns": null,
            "grid_template_rows": null,
            "height": null,
            "justify_content": null,
            "justify_items": null,
            "left": null,
            "margin": null,
            "max_height": null,
            "max_width": null,
            "min_height": null,
            "min_width": null,
            "object_fit": null,
            "object_position": null,
            "order": null,
            "overflow": null,
            "overflow_x": null,
            "overflow_y": null,
            "padding": null,
            "right": null,
            "top": null,
            "visibility": null,
            "width": null
          }
        },
        "97ba1b8734f94f8a8e6beb6a68b59598": {
          "model_module": "@jupyter-widgets/controls",
          "model_name": "DescriptionStyleModel",
          "model_module_version": "1.5.0",
          "state": {
            "_model_module": "@jupyter-widgets/controls",
            "_model_module_version": "1.5.0",
            "_model_name": "DescriptionStyleModel",
            "_view_count": null,
            "_view_module": "@jupyter-widgets/base",
            "_view_module_version": "1.2.0",
            "_view_name": "StyleView",
            "description_width": ""
          }
        },
        "d15ad81ab21b4586972aee77f3dd7be9": {
          "model_module": "@jupyter-widgets/base",
          "model_name": "LayoutModel",
          "model_module_version": "1.2.0",
          "state": {
            "_model_module": "@jupyter-widgets/base",
            "_model_module_version": "1.2.0",
            "_model_name": "LayoutModel",
            "_view_count": null,
            "_view_module": "@jupyter-widgets/base",
            "_view_module_version": "1.2.0",
            "_view_name": "LayoutView",
            "align_content": null,
            "align_items": null,
            "align_self": null,
            "border": null,
            "bottom": null,
            "display": null,
            "flex": null,
            "flex_flow": null,
            "grid_area": null,
            "grid_auto_columns": null,
            "grid_auto_flow": null,
            "grid_auto_rows": null,
            "grid_column": null,
            "grid_gap": null,
            "grid_row": null,
            "grid_template_areas": null,
            "grid_template_columns": null,
            "grid_template_rows": null,
            "height": null,
            "justify_content": null,
            "justify_items": null,
            "left": null,
            "margin": null,
            "max_height": null,
            "max_width": null,
            "min_height": null,
            "min_width": null,
            "object_fit": null,
            "object_position": null,
            "order": null,
            "overflow": null,
            "overflow_x": null,
            "overflow_y": null,
            "padding": null,
            "right": null,
            "top": null,
            "visibility": null,
            "width": "20px"
          }
        },
        "748b47e7275745abb6bae846166d1dc3": {
          "model_module": "@jupyter-widgets/controls",
          "model_name": "ProgressStyleModel",
          "model_module_version": "1.5.0",
          "state": {
            "_model_module": "@jupyter-widgets/controls",
            "_model_module_version": "1.5.0",
            "_model_name": "ProgressStyleModel",
            "_view_count": null,
            "_view_module": "@jupyter-widgets/base",
            "_view_module_version": "1.2.0",
            "_view_name": "StyleView",
            "bar_color": null,
            "description_width": ""
          }
        },
        "410affe39fdf47849957f7c744cafba9": {
          "model_module": "@jupyter-widgets/base",
          "model_name": "LayoutModel",
          "model_module_version": "1.2.0",
          "state": {
            "_model_module": "@jupyter-widgets/base",
            "_model_module_version": "1.2.0",
            "_model_name": "LayoutModel",
            "_view_count": null,
            "_view_module": "@jupyter-widgets/base",
            "_view_module_version": "1.2.0",
            "_view_name": "LayoutView",
            "align_content": null,
            "align_items": null,
            "align_self": null,
            "border": null,
            "bottom": null,
            "display": null,
            "flex": null,
            "flex_flow": null,
            "grid_area": null,
            "grid_auto_columns": null,
            "grid_auto_flow": null,
            "grid_auto_rows": null,
            "grid_column": null,
            "grid_gap": null,
            "grid_row": null,
            "grid_template_areas": null,
            "grid_template_columns": null,
            "grid_template_rows": null,
            "height": null,
            "justify_content": null,
            "justify_items": null,
            "left": null,
            "margin": null,
            "max_height": null,
            "max_width": null,
            "min_height": null,
            "min_width": null,
            "object_fit": null,
            "object_position": null,
            "order": null,
            "overflow": null,
            "overflow_x": null,
            "overflow_y": null,
            "padding": null,
            "right": null,
            "top": null,
            "visibility": null,
            "width": null
          }
        },
        "da55580e6f2a4277bca805858c5346b5": {
          "model_module": "@jupyter-widgets/controls",
          "model_name": "DescriptionStyleModel",
          "model_module_version": "1.5.0",
          "state": {
            "_model_module": "@jupyter-widgets/controls",
            "_model_module_version": "1.5.0",
            "_model_name": "DescriptionStyleModel",
            "_view_count": null,
            "_view_module": "@jupyter-widgets/base",
            "_view_module_version": "1.2.0",
            "_view_name": "StyleView",
            "description_width": ""
          }
        },
        "86b79097d2b44b55826f55b7240bdeab": {
          "model_module": "@jupyter-widgets/controls",
          "model_name": "HBoxModel",
          "model_module_version": "1.5.0",
          "state": {
            "_dom_classes": [],
            "_model_module": "@jupyter-widgets/controls",
            "_model_module_version": "1.5.0",
            "_model_name": "HBoxModel",
            "_view_count": null,
            "_view_module": "@jupyter-widgets/controls",
            "_view_module_version": "1.5.0",
            "_view_name": "HBoxView",
            "box_style": "",
            "children": [
              "IPY_MODEL_1573ac88e70449e684f3959ad5aa893c",
              "IPY_MODEL_8ce1fbbed83649ad81da7583eb7b9728",
              "IPY_MODEL_1cfdcb2f27114996a56c051385926d9a"
            ],
            "layout": "IPY_MODEL_791aa67935df4cba8ba5fe7f94454f12"
          }
        },
        "1573ac88e70449e684f3959ad5aa893c": {
          "model_module": "@jupyter-widgets/controls",
          "model_name": "HTMLModel",
          "model_module_version": "1.5.0",
          "state": {
            "_dom_classes": [],
            "_model_module": "@jupyter-widgets/controls",
            "_model_module_version": "1.5.0",
            "_model_name": "HTMLModel",
            "_view_count": null,
            "_view_module": "@jupyter-widgets/controls",
            "_view_module_version": "1.5.0",
            "_view_name": "HTMLView",
            "description": "",
            "description_tooltip": null,
            "layout": "IPY_MODEL_ed80c1c9bf21495088301bce5a2d22cf",
            "placeholder": "​",
            "style": "IPY_MODEL_da40da49c14f42b1a62ee3482aa99444",
            "value": "Generating validation split: "
          }
        },
        "8ce1fbbed83649ad81da7583eb7b9728": {
          "model_module": "@jupyter-widgets/controls",
          "model_name": "FloatProgressModel",
          "model_module_version": "1.5.0",
          "state": {
            "_dom_classes": [],
            "_model_module": "@jupyter-widgets/controls",
            "_model_module_version": "1.5.0",
            "_model_name": "FloatProgressModel",
            "_view_count": null,
            "_view_module": "@jupyter-widgets/controls",
            "_view_module_version": "1.5.0",
            "_view_name": "ProgressView",
            "bar_style": "success",
            "description": "",
            "description_tooltip": null,
            "layout": "IPY_MODEL_bbd5a26f8f5f488ea78f8a5d7ba32fba",
            "max": 1,
            "min": 0,
            "orientation": "horizontal",
            "style": "IPY_MODEL_7d51eedbbcd24462bb22d01b578a2e01",
            "value": 1
          }
        },
        "1cfdcb2f27114996a56c051385926d9a": {
          "model_module": "@jupyter-widgets/controls",
          "model_name": "HTMLModel",
          "model_module_version": "1.5.0",
          "state": {
            "_dom_classes": [],
            "_model_module": "@jupyter-widgets/controls",
            "_model_module_version": "1.5.0",
            "_model_name": "HTMLModel",
            "_view_count": null,
            "_view_module": "@jupyter-widgets/controls",
            "_view_module_version": "1.5.0",
            "_view_name": "HTMLView",
            "description": "",
            "description_tooltip": null,
            "layout": "IPY_MODEL_c134fe4c6e5d460f8e0cc358d429bee2",
            "placeholder": "​",
            "style": "IPY_MODEL_a22f1e5cc2d54d6483a1736bcc63a1dc",
            "value": " 955/0 [00:00&lt;00:00, 7824.07 examples/s]"
          }
        },
        "791aa67935df4cba8ba5fe7f94454f12": {
          "model_module": "@jupyter-widgets/base",
          "model_name": "LayoutModel",
          "model_module_version": "1.2.0",
          "state": {
            "_model_module": "@jupyter-widgets/base",
            "_model_module_version": "1.2.0",
            "_model_name": "LayoutModel",
            "_view_count": null,
            "_view_module": "@jupyter-widgets/base",
            "_view_module_version": "1.2.0",
            "_view_name": "LayoutView",
            "align_content": null,
            "align_items": null,
            "align_self": null,
            "border": null,
            "bottom": null,
            "display": null,
            "flex": null,
            "flex_flow": null,
            "grid_area": null,
            "grid_auto_columns": null,
            "grid_auto_flow": null,
            "grid_auto_rows": null,
            "grid_column": null,
            "grid_gap": null,
            "grid_row": null,
            "grid_template_areas": null,
            "grid_template_columns": null,
            "grid_template_rows": null,
            "height": null,
            "justify_content": null,
            "justify_items": null,
            "left": null,
            "margin": null,
            "max_height": null,
            "max_width": null,
            "min_height": null,
            "min_width": null,
            "object_fit": null,
            "object_position": null,
            "order": null,
            "overflow": null,
            "overflow_x": null,
            "overflow_y": null,
            "padding": null,
            "right": null,
            "top": null,
            "visibility": null,
            "width": null
          }
        },
        "ed80c1c9bf21495088301bce5a2d22cf": {
          "model_module": "@jupyter-widgets/base",
          "model_name": "LayoutModel",
          "model_module_version": "1.2.0",
          "state": {
            "_model_module": "@jupyter-widgets/base",
            "_model_module_version": "1.2.0",
            "_model_name": "LayoutModel",
            "_view_count": null,
            "_view_module": "@jupyter-widgets/base",
            "_view_module_version": "1.2.0",
            "_view_name": "LayoutView",
            "align_content": null,
            "align_items": null,
            "align_self": null,
            "border": null,
            "bottom": null,
            "display": null,
            "flex": null,
            "flex_flow": null,
            "grid_area": null,
            "grid_auto_columns": null,
            "grid_auto_flow": null,
            "grid_auto_rows": null,
            "grid_column": null,
            "grid_gap": null,
            "grid_row": null,
            "grid_template_areas": null,
            "grid_template_columns": null,
            "grid_template_rows": null,
            "height": null,
            "justify_content": null,
            "justify_items": null,
            "left": null,
            "margin": null,
            "max_height": null,
            "max_width": null,
            "min_height": null,
            "min_width": null,
            "object_fit": null,
            "object_position": null,
            "order": null,
            "overflow": null,
            "overflow_x": null,
            "overflow_y": null,
            "padding": null,
            "right": null,
            "top": null,
            "visibility": null,
            "width": null
          }
        },
        "da40da49c14f42b1a62ee3482aa99444": {
          "model_module": "@jupyter-widgets/controls",
          "model_name": "DescriptionStyleModel",
          "model_module_version": "1.5.0",
          "state": {
            "_model_module": "@jupyter-widgets/controls",
            "_model_module_version": "1.5.0",
            "_model_name": "DescriptionStyleModel",
            "_view_count": null,
            "_view_module": "@jupyter-widgets/base",
            "_view_module_version": "1.2.0",
            "_view_name": "StyleView",
            "description_width": ""
          }
        },
        "bbd5a26f8f5f488ea78f8a5d7ba32fba": {
          "model_module": "@jupyter-widgets/base",
          "model_name": "LayoutModel",
          "model_module_version": "1.2.0",
          "state": {
            "_model_module": "@jupyter-widgets/base",
            "_model_module_version": "1.2.0",
            "_model_name": "LayoutModel",
            "_view_count": null,
            "_view_module": "@jupyter-widgets/base",
            "_view_module_version": "1.2.0",
            "_view_name": "LayoutView",
            "align_content": null,
            "align_items": null,
            "align_self": null,
            "border": null,
            "bottom": null,
            "display": null,
            "flex": null,
            "flex_flow": null,
            "grid_area": null,
            "grid_auto_columns": null,
            "grid_auto_flow": null,
            "grid_auto_rows": null,
            "grid_column": null,
            "grid_gap": null,
            "grid_row": null,
            "grid_template_areas": null,
            "grid_template_columns": null,
            "grid_template_rows": null,
            "height": null,
            "justify_content": null,
            "justify_items": null,
            "left": null,
            "margin": null,
            "max_height": null,
            "max_width": null,
            "min_height": null,
            "min_width": null,
            "object_fit": null,
            "object_position": null,
            "order": null,
            "overflow": null,
            "overflow_x": null,
            "overflow_y": null,
            "padding": null,
            "right": null,
            "top": null,
            "visibility": null,
            "width": "20px"
          }
        },
        "7d51eedbbcd24462bb22d01b578a2e01": {
          "model_module": "@jupyter-widgets/controls",
          "model_name": "ProgressStyleModel",
          "model_module_version": "1.5.0",
          "state": {
            "_model_module": "@jupyter-widgets/controls",
            "_model_module_version": "1.5.0",
            "_model_name": "ProgressStyleModel",
            "_view_count": null,
            "_view_module": "@jupyter-widgets/base",
            "_view_module_version": "1.2.0",
            "_view_name": "StyleView",
            "bar_color": null,
            "description_width": ""
          }
        },
        "c134fe4c6e5d460f8e0cc358d429bee2": {
          "model_module": "@jupyter-widgets/base",
          "model_name": "LayoutModel",
          "model_module_version": "1.2.0",
          "state": {
            "_model_module": "@jupyter-widgets/base",
            "_model_module_version": "1.2.0",
            "_model_name": "LayoutModel",
            "_view_count": null,
            "_view_module": "@jupyter-widgets/base",
            "_view_module_version": "1.2.0",
            "_view_name": "LayoutView",
            "align_content": null,
            "align_items": null,
            "align_self": null,
            "border": null,
            "bottom": null,
            "display": null,
            "flex": null,
            "flex_flow": null,
            "grid_area": null,
            "grid_auto_columns": null,
            "grid_auto_flow": null,
            "grid_auto_rows": null,
            "grid_column": null,
            "grid_gap": null,
            "grid_row": null,
            "grid_template_areas": null,
            "grid_template_columns": null,
            "grid_template_rows": null,
            "height": null,
            "justify_content": null,
            "justify_items": null,
            "left": null,
            "margin": null,
            "max_height": null,
            "max_width": null,
            "min_height": null,
            "min_width": null,
            "object_fit": null,
            "object_position": null,
            "order": null,
            "overflow": null,
            "overflow_x": null,
            "overflow_y": null,
            "padding": null,
            "right": null,
            "top": null,
            "visibility": null,
            "width": null
          }
        },
        "a22f1e5cc2d54d6483a1736bcc63a1dc": {
          "model_module": "@jupyter-widgets/controls",
          "model_name": "DescriptionStyleModel",
          "model_module_version": "1.5.0",
          "state": {
            "_model_module": "@jupyter-widgets/controls",
            "_model_module_version": "1.5.0",
            "_model_name": "DescriptionStyleModel",
            "_view_count": null,
            "_view_module": "@jupyter-widgets/base",
            "_view_module_version": "1.2.0",
            "_view_name": "StyleView",
            "description_width": ""
          }
        }
      }
    }
  },
  "nbformat": 4,
  "nbformat_minor": 0
}